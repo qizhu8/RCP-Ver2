{
 "cells": [
  {
   "cell_type": "markdown",
   "metadata": {},
   "source": [
    "# Plot Test Results"
   ]
  },
  {
   "cell_type": "code",
   "execution_count": 17,
   "metadata": {},
   "outputs": [],
   "source": [
    "# import necessary libraries\n",
    "import os\n",
    "import json\n",
    "import numpy as np\n",
    "import pandas as pd\n",
    "import pickle as pkl\n",
    "import matplotlib.pyplot as plt\n",
    "\n",
    "import DLRCP.theoreticalAnalysis as theoTool"
   ]
  },
  {
   "cell_type": "code",
   "execution_count": 18,
   "metadata": {},
   "outputs": [],
   "source": [
    "# Mapping between official name and alias in scripts\n",
    "protocolName = {\n",
    "    'UDP': 'UDP',\n",
    "    'ARQ_inf_wind': 'ARQ',\n",
    "    'ARQ_finit_wind': 'ARQ finit window',\n",
    "    'TCP': 'TCP',\n",
    "    'RCPQ_Learning': 'RTQ',\n",
    "    'RCPRTQ': 'Heuristic-RC' \n",
    "}\n",
    "\n",
    "attributeNameDict = {\n",
    "        \"protocol\": \"ptcl\",\n",
    "        \"generated packets\": \"pkts gen\",\n",
    "        \"sent packets\": \"pkts sent\",\n",
    "        \"packets delivered\": \"pkts dlvy\",\n",
    "        \"delivery percentage\": \"dlvy perc\",\n",
    "        \"average delay\": \"avg dly\",\n",
    "        \"system utility\": \"sys util\",\n",
    "        \"packets delivered (last 25%)\": \"l25p dlvy\",\n",
    "        \"delivery percentage (last 25%)\": \"l25p dlvy perc\",\n",
    "        \"average delay (last 25%)\": \"l25p dly\",\n",
    "        \"system utility (last 25%)\": \"l25p util\",\n",
    "        \"loss\": \"loss\"\n",
    "}"
   ]
  },
  {
   "cell_type": "code",
   "execution_count": 19,
   "metadata": {},
   "outputs": [],
   "source": [
    "# specify test result subfolder and trial folder prefix\n",
    "# resultFolder, subFolderPrefix = \"Results/case_newutility_SumPower_alpha_2_0\", \"SumPower\"\n",
    "# resultFolder, subFolderPrefix = \"Results/case_study_competition_TimeDiscount_alpha_2_0\", \"TimeDiscount\"\n",
    "# resultFolder, subFolderPrefix = \"Results/case_study_TimeDiscount_alpha_2_0\", \"TimeDiscount\"\n",
    "resultFolder, subFolderPrefix = \"Results/dynamic_channel_TimeDiscount_alpha_2_0\", \"TimeDiscount\"\n"
   ]
  },
  {
   "cell_type": "code",
   "execution_count": 20,
   "metadata": {},
   "outputs": [],
   "source": [
    "# figure out the path to each beta value\n",
    "subFolders = os.listdir(resultFolder)\n",
    "subFolders = filter(lambda s: s.startswith(subFolderPrefix), subFolders)\n"
   ]
  },
  {
   "cell_type": "code",
   "execution_count": 21,
   "metadata": {},
   "outputs": [],
   "source": [
    "subFolderBetaMap_unordered = {}\n",
    "for subfolder in subFolders:\n",
    "    betaList = subfolder.split(\"_\")\n",
    "    if len(betaList) > 1:\n",
    "        betaStr = \"\".join(subfolder.split(\"_\")[1:])\n",
    "        beta = int(betaStr) / (10 ** (len(betaStr)-1))\n",
    "        subFolderBetaMap_unordered[subfolder] = {\"beta\": beta}\n",
    "del subFolders\n"
   ]
  },
  {
   "cell_type": "code",
   "execution_count": 22,
   "metadata": {},
   "outputs": [],
   "source": [
    "# order subFolder based on beta value (the second element in the dict.item)\n",
    "subFolderBetaMap = dict(sorted(subFolderBetaMap_unordered.items(), key=lambda x: x[1][\"beta\"]))"
   ]
  },
  {
   "cell_type": "code",
   "execution_count": 23,
   "metadata": {},
   "outputs": [
    {
     "name": "stdout",
     "output_type": "stream",
     "text": [
      "Results/dynamic_channel_TimeDiscount_alpha_2_0/TimeDiscount_0_8_0/RCPRTQ_perf.pkl\n",
      "dict_keys(['perfRecords', 'serverSidePerf', 'clientSidePerf', 'clientPid', 'distincPktsSent', 'pktsPerTick', 'delayPerPkt'])\n"
     ]
    }
   ],
   "source": [
    "# get the performance pkl of RCPRTQ_perf\n",
    "pklPath = os.path.join(resultFolder, list(subFolderBetaMap.keys())[7], \"RCPRTQ_perf.pkl\")\n",
    "print(pklPath)\n",
    "if os.path.isfile(pklPath):\n",
    "    with open(pklPath, 'rb') as f:\n",
    "        data = pkl.load(f)\n",
    "    print(data.keys())"
   ]
  },
  {
   "cell_type": "code",
   "execution_count": 24,
   "metadata": {},
   "outputs": [],
   "source": [
    "def interpretData(data):\n",
    "    perfRecord = np.asarray(data[\"perfRecords\"])\n",
    "    svrPerfDf = pd.DataFrame({\n",
    "        \"time\": perfRecord[:, 0],\n",
    "        \"delivered pkt since before\": perfRecord[:, 1],\n",
    "        \"pkt delivery rate\": perfRecord[:, 2],\n",
    "        \"avg delay\": perfRecord[:, 3],\n",
    "        \"utility\": perfRecord[:, 4]\n",
    "        })\n",
    "    \n",
    "    svrPktID, svrPktDelvyRate, svrAvgDelay = data[\"serverSidePerf\"]\n",
    "\n",
    "    cltPerfDf = pd.DataFrame({\n",
    "        \"retransSoFar\": data[\"clientSidePerf\"][\"retransSoFar\"], \n",
    "        \"retransProb\": data[\"clientSidePerf\"][\"retransProbSoFar\"], \n",
    "        \"ignorePktsSoFar\": data[\"clientSidePerf\"][\"ignorePktsSoFar\"], \n",
    "        })\n",
    "    \n",
    "    return {\n",
    "        \"serverPerfDf\": svrPerfDf,\n",
    "        \"clientPerfDf\": cltPerfDf,\n",
    "        \"perfRecord\": perfRecord\n",
    "    }\n",
    "    \n",
    "# interpretData(data)"
   ]
  },
  {
   "cell_type": "code",
   "execution_count": 25,
   "metadata": {},
   "outputs": [
    {
     "data": {
      "text/plain": [
       "'\\nLet you know what\\'s inside a \"data\" data structure.\\n'"
      ]
     },
     "execution_count": 25,
     "metadata": {},
     "output_type": "execute_result"
    }
   ],
   "source": [
    "\"\"\"\n",
    "Let you know what's inside a \"data\" data structure.\n",
    "\"\"\"\n",
    "\n",
    "# def showDictHierarchy(data, prefix=\"\", level=0):\n",
    "#     if isinstance(data, dict):\n",
    "#         print(\"  \"*level+prefix)\n",
    "#         for key in data:\n",
    "#             showDictHierarchy(data[key], str(key), level+1)\n",
    "#     else:\n",
    "#         print(\"  \"*(level) + prefix + \":\" + str(type(data)))\n",
    "# showDictHierarchy(data)"
   ]
  },
  {
   "cell_type": "markdown",
   "metadata": {},
   "source": [
    "## Load all data"
   ]
  },
  {
   "cell_type": "code",
   "execution_count": 26,
   "metadata": {},
   "outputs": [],
   "source": [
    "# load RTQ\n",
    "for subFolder in subFolderBetaMap:\n",
    "    name = protocolName[\"RCPRTQ\"]\n",
    "    pklPath = os.path.join(resultFolder, subFolder, \"RCPRTQ_perf.pkl\")\n",
    "    if os.path.isfile(pklPath):\n",
    "        with open(pklPath, 'rb') as f:\n",
    "            data = pkl.load(f)\n",
    "        subFolderBetaMap[subFolder][name] = interpretData(data)\n",
    "\n",
    "    name = protocolName[\"RCPQ_Learning\"]\n",
    "    pklPath = os.path.join(resultFolder, subFolder, \"RCPQ_Learning_perf.pkl\")\n",
    "    if os.path.isfile(pklPath):\n",
    "        with open(pklPath, 'rb') as f:\n",
    "            data = pkl.load(f)\n",
    "        subFolderBetaMap[subFolder][name] = interpretData(data)\n"
   ]
  },
  {
   "cell_type": "markdown",
   "metadata": {},
   "source": [
    "### Plot retransmission rate vs beta plot"
   ]
  },
  {
   "cell_type": "code",
   "execution_count": 27,
   "metadata": {},
   "outputs": [],
   "source": [
    "retransProbVsBetaData = {\n",
    "    \"beta\": [subFolderBetaMap[subFolder][\"beta\"] for subFolder in subFolderBetaMap]\n",
    "}\n",
    "\n",
    "if protocolName[\"RCPRTQ\"] in subFolderBetaMap[subFolder]:\n",
    "    retransProbVsBetaData[protocolName[\"RCPRTQ\"]] = [subFolderBetaMap[subFolder][protocolName[\"RCPRTQ\"]][\"clientPerfDf\"][\"retransProb\"].iloc[-1] for subFolder in subFolderBetaMap]\n",
    "\n",
    "if protocolName[\"RCPQ_Learning\"] in subFolderBetaMap[subFolder]:\n",
    "    retransProbVsBetaData[protocolName[\"RCPQ_Learning\"] + \"_middle\"] = [subFolderBetaMap[subFolder][protocolName[\"RCPQ_Learning\"]][\"clientPerfDf\"][\"retransProb\"].iloc[20000] for subFolder in subFolderBetaMap]\n",
    "\n",
    "    retransProbVsBetaData[protocolName[\"RCPQ_Learning\"] + \"_final\"] = [subFolderBetaMap[subFolder][protocolName[\"RCPQ_Learning\"]][\"clientPerfDf\"][\"retransProb\"].iloc[-1] for subFolder in subFolderBetaMap]\n",
    "\n",
    "\n",
    "retransProbVsBetaDf = pd.DataFrame(data=retransProbVsBetaData)\n",
    "retransProbVsBetaDf.set_index(\"beta\", inplace=True)"
   ]
  },
  {
   "cell_type": "code",
   "execution_count": 28,
   "metadata": {},
   "outputs": [],
   "source": [
    "retransProbVsBetaDf = retransProbVsBetaDf.rename(columns={\"RTQ_middle\": \"RTQ\", \"RTQ_final\": \"RTQ-final\"})"
   ]
  },
  {
   "cell_type": "code",
   "execution_count": 29,
   "metadata": {},
   "outputs": [
    {
     "data": {
      "text/html": [
       "<div>\n",
       "<style scoped>\n",
       "    .dataframe tbody tr th:only-of-type {\n",
       "        vertical-align: middle;\n",
       "    }\n",
       "\n",
       "    .dataframe tbody tr th {\n",
       "        vertical-align: top;\n",
       "    }\n",
       "\n",
       "    .dataframe thead th {\n",
       "        text-align: right;\n",
       "    }\n",
       "</style>\n",
       "<table border=\"1\" class=\"dataframe\">\n",
       "  <thead>\n",
       "    <tr style=\"text-align: right;\">\n",
       "      <th></th>\n",
       "      <th>Heuristic-RC</th>\n",
       "      <th>RTQ</th>\n",
       "      <th>RTQ-final</th>\n",
       "    </tr>\n",
       "    <tr>\n",
       "      <th>beta</th>\n",
       "      <th></th>\n",
       "      <th></th>\n",
       "      <th></th>\n",
       "    </tr>\n",
       "  </thead>\n",
       "  <tbody>\n",
       "    <tr>\n",
       "      <th>0.1</th>\n",
       "      <td>1.130782e-52</td>\n",
       "      <td>5.156136e-21</td>\n",
       "      <td>3.206511e-47</td>\n",
       "    </tr>\n",
       "    <tr>\n",
       "      <th>0.2</th>\n",
       "      <td>3.061739e-53</td>\n",
       "      <td>6.333042e-23</td>\n",
       "      <td>6.708964e-49</td>\n",
       "    </tr>\n",
       "    <tr>\n",
       "      <th>0.3</th>\n",
       "      <td>6.585265e-01</td>\n",
       "      <td>7.000212e-01</td>\n",
       "      <td>6.087810e-01</td>\n",
       "    </tr>\n",
       "    <tr>\n",
       "      <th>0.4</th>\n",
       "      <td>5.666783e-01</td>\n",
       "      <td>6.764691e-01</td>\n",
       "      <td>7.302017e-01</td>\n",
       "    </tr>\n",
       "    <tr>\n",
       "      <th>0.5</th>\n",
       "      <td>7.461703e-01</td>\n",
       "      <td>7.313105e-01</td>\n",
       "      <td>7.052772e-01</td>\n",
       "    </tr>\n",
       "    <tr>\n",
       "      <th>0.6</th>\n",
       "      <td>8.667321e-01</td>\n",
       "      <td>7.530851e-01</td>\n",
       "      <td>7.437436e-01</td>\n",
       "    </tr>\n",
       "    <tr>\n",
       "      <th>0.7</th>\n",
       "      <td>8.324216e-01</td>\n",
       "      <td>7.616781e-01</td>\n",
       "      <td>7.663318e-01</td>\n",
       "    </tr>\n",
       "    <tr>\n",
       "      <th>0.8</th>\n",
       "      <td>9.029066e-01</td>\n",
       "      <td>8.303920e-01</td>\n",
       "      <td>8.110476e-01</td>\n",
       "    </tr>\n",
       "    <tr>\n",
       "      <th>0.9</th>\n",
       "      <td>9.783095e-01</td>\n",
       "      <td>8.622058e-01</td>\n",
       "      <td>8.351746e-01</td>\n",
       "    </tr>\n",
       "    <tr>\n",
       "      <th>1.0</th>\n",
       "      <td>9.573519e-01</td>\n",
       "      <td>8.519303e-01</td>\n",
       "      <td>8.685684e-01</td>\n",
       "    </tr>\n",
       "  </tbody>\n",
       "</table>\n",
       "</div>"
      ],
      "text/plain": [
       "      Heuristic-RC           RTQ     RTQ-final\n",
       "beta                                          \n",
       "0.1   1.130782e-52  5.156136e-21  3.206511e-47\n",
       "0.2   3.061739e-53  6.333042e-23  6.708964e-49\n",
       "0.3   6.585265e-01  7.000212e-01  6.087810e-01\n",
       "0.4   5.666783e-01  6.764691e-01  7.302017e-01\n",
       "0.5   7.461703e-01  7.313105e-01  7.052772e-01\n",
       "0.6   8.667321e-01  7.530851e-01  7.437436e-01\n",
       "0.7   8.324216e-01  7.616781e-01  7.663318e-01\n",
       "0.8   9.029066e-01  8.303920e-01  8.110476e-01\n",
       "0.9   9.783095e-01  8.622058e-01  8.351746e-01\n",
       "1.0   9.573519e-01  8.519303e-01  8.685684e-01"
      ]
     },
     "execution_count": 29,
     "metadata": {},
     "output_type": "execute_result"
    }
   ],
   "source": [
    "retransProbVsBetaDf"
   ]
  },
  {
   "cell_type": "code",
   "execution_count": 30,
   "metadata": {},
   "outputs": [
    {
     "data": {
      "text/plain": [
       "Text(0, 0.5, 'Retransmission Probability')"
      ]
     },
     "execution_count": 30,
     "metadata": {},
     "output_type": "execute_result"
    },
    {
     "data": {
      "image/png": "[encoded data removed]",
      "text/plain": [
       "<Figure size 432x288 with 1 Axes>"
      ]
     },
     "metadata": {
      "needs_background": "light"
     },
     "output_type": "display_data"
    }
   ],
   "source": [
    "protocolPlotSettings = {\"RTQ\": ['g-o', 1], \"RTQ-final\": ['g-o', 0.6], \"Heuristic-RC\": ['r-o', 1]}\n",
    "for protocol in protocolPlotSettings:\n",
    "    plt.plot(retransProbVsBetaDf.index, retransProbVsBetaDf[protocol], protocolPlotSettings[protocol][0], alpha=protocolPlotSettings[protocol][1], label=protocol)\n",
    "plt.legend()\n",
    "plt.xlabel(\"$\\eta$\")\n",
    "plt.ylabel(\"Retransmission Probability\")"
   ]
  },
  {
   "cell_type": "markdown",
   "metadata": {},
   "source": [
    "Retransmission Probability over time"
   ]
  },
  {
   "cell_type": "code",
   "execution_count": 31,
   "metadata": {},
   "outputs": [],
   "source": [
    "retransProbOverTime_RTQ = [subFolderBetaMap[subFolder][protocolName[\"RCPQ_Learning\"]][\"clientPerfDf\"][\"retransProb\"] for subFolder in subFolderBetaMap]\n",
    "retransProbOverTime_RCP = [subFolderBetaMap[subFolder][protocolName[\"RCPRTQ\"]][\"clientPerfDf\"][\"retransProb\"] for subFolder in subFolderBetaMap]"
   ]
  },
  {
   "cell_type": "code",
   "execution_count": 32,
   "metadata": {},
   "outputs": [
    {
     "data": {
      "text/plain": [
       "[<matplotlib.lines.Line2D at 0x7f85d10128b0>]"
      ]
     },
     "execution_count": 32,
     "metadata": {},
     "output_type": "execute_result"
    },
    {
     "data": {
      "image/png": "[encoded data removed]",
      "text/plain": [
       "<Figure size 432x288 with 1 Axes>"
      ]
     },
     "metadata": {
      "needs_background": "light"
     },
     "output_type": "display_data"
    }
   ],
   "source": [
    "w = 200\n",
    "idx = 3\n",
    "plt.plot(np.convolve(retransProbOverTime_RTQ[idx], np.ones(w)) / w)\n",
    "plt.plot(np.convolve(retransProbOverTime_RCP[idx], np.ones(w)) / w)\n",
    "# plt.plot(windowSizeOverTime_RCP[3])"
   ]
  },
  {
   "cell_type": "markdown",
   "metadata": {},
   "source": [
    "## Plot Utility vs Beta"
   ]
  },
  {
   "cell_type": "code",
   "execution_count": 35,
   "metadata": {},
   "outputs": [],
   "source": [
    "utilityVSBetaData = {\n",
    "    \"beta\": [subFolderBetaMap[subFolder][\"beta\"] for subFolder in subFolderBetaMap]\n",
    "}\n",
    "if protocolName[\"RCPRTQ\"] in subFolderBetaMap[subFolder]:\n",
    "    utilityVSBetaData[protocolName[\"RCPRTQ\"]] = [subFolderBetaMap[subFolder][protocolName[\"RCPRTQ\"]][\"serverPerfDf\"][\"utility\"].iloc[-1] for subFolder in subFolderBetaMap]\n",
    "\n",
    "if protocolName[\"RCPQ_Learning\"] in subFolderBetaMap[subFolder]:\n",
    "    # utilityVSBetaData[protocolName[\"RCPQ_Learning\"] + \"_middle\"] = [subFolderBetaMap[subFolder][protocolName[\"RCPQ_Learning\"]][\"serverPerfDf\"][\"utility\"].iloc[20000] for subFolder in subFolderBetaMap]\n",
    "\n",
    "    utilityVSBetaData[protocolName[\"RCPQ_Learning\"] + \"_final\"] = [subFolderBetaMap[subFolder][protocolName[\"RCPQ_Learning\"]][\"serverPerfDf\"][\"utility\"].iloc[-1] for subFolder in subFolderBetaMap]\n",
    "\n",
    "utilityVSBetaDf = pd.DataFrame(data=utilityVSBetaData)\n",
    "utilityVSBetaDf.set_index(\"beta\", inplace=True)"
   ]
  },
  {
   "cell_type": "code",
   "execution_count": 36,
   "metadata": {},
   "outputs": [
    {
     "data": {
      "text/plain": [
       "<AxesSubplot:xlabel='beta'>"
      ]
     },
     "execution_count": 36,
     "metadata": {},
     "output_type": "execute_result"
    },
    {
     "data": {
      "image/png": "[encoded data removed]",
      "text/plain": [
       "<Figure size 432x288 with 1 Axes>"
      ]
     },
     "metadata": {
      "needs_background": "light"
     },
     "output_type": "display_data"
    }
   ],
   "source": [
    "utilityVSBetaDf.plot()"
   ]
  },
  {
   "cell_type": "markdown",
   "metadata": {},
   "source": [
    "## Summary of Q table"
   ]
  },
  {
   "cell_type": "code",
   "execution_count": 37,
   "metadata": {},
   "outputs": [],
   "source": [
    "betaIdx=5\n",
    "alpha = 2\n",
    "subFolder = list(subFolderBetaMap.keys())[betaIdx]\n",
    "beta = subFolderBetaMap[subFolder][\"beta\"]\n",
    "\n",
    "QDebugFile = os.path.join(resultFolder, subFolder, \"QTable.txtdebug.csv\")\n",
    "QTableFile = os.path.join(resultFolder, subFolder, \"QTable.txt\")\n",
    "# QDebugFile = 'Results/case_study_TimeDiscount_alpha_2_0/TimeDiscount_{}_{}/QTable.txtdebug.csv'.format(beta_digit1, beta_digit2)\n",
    "# QTableFile = 'Results/case_study_TimeDiscount_alpha_2_0/TimeDiscount_{}_{}/QTable.txt'.format(beta_digit1, beta_digit2)\n",
    "# print(QDebugFile)\n",
    "df = pd.read_csv(QDebugFile)\n",
    "QTable = pd.read_csv(QTableFile, names=['a=0', 'a=1'])"
   ]
  },
  {
   "cell_type": "code",
   "execution_count": 38,
   "metadata": {},
   "outputs": [],
   "source": [
    "delays_exp = df['curDelay'].mean()\n",
    "deliveryRate_exp = df['curDelvyRate'].mean()\n",
    "delays_lst25_exp = df['curDelay'][-1000:].mean()\n",
    "deliveryRate_lst25_exp = df['curDelvyRate'][-1000:].mean()\n",
    "\n",
    "gamma_exp = df['curChPktLoss'].mean()\n",
    "txAttempts = df['curTxAttemp']\n",
    "RTT_exp = df['curRTT'].mean()\n",
    "RTO_exp = df['curRTO'].mean()\n",
    "RTTVar_exp = df['curRTTVar'].mean()"
   ]
  },
  {
   "cell_type": "code",
   "execution_count": 39,
   "metadata": {},
   "outputs": [],
   "source": [
    "def utilityCalcHandler(delvyRate, avgDelay):\n",
    "    return beta ** (avgDelay / 100) * (delvyRate ** alpha)"
   ]
  },
  {
   "cell_type": "code",
   "execution_count": 40,
   "metadata": {},
   "outputs": [
    {
     "data": {
      "text/html": [
       "<div>\n",
       "<style scoped>\n",
       "    .dataframe tbody tr th:only-of-type {\n",
       "        vertical-align: middle;\n",
       "    }\n",
       "\n",
       "    .dataframe tbody tr th {\n",
       "        vertical-align: top;\n",
       "    }\n",
       "\n",
       "    .dataframe thead th {\n",
       "        text-align: right;\n",
       "    }\n",
       "</style>\n",
       "<table border=\"1\" class=\"dataframe\">\n",
       "  <thead>\n",
       "    <tr style=\"text-align: right;\">\n",
       "      <th></th>\n",
       "      <th>s</th>\n",
       "      <th>delay</th>\n",
       "      <th>delivery rate</th>\n",
       "      <th>utility</th>\n",
       "      <th>best s</th>\n",
       "    </tr>\n",
       "  </thead>\n",
       "  <tbody>\n",
       "    <tr>\n",
       "      <th>0</th>\n",
       "      <td>1</td>\n",
       "      <td>124.184826</td>\n",
       "      <td>0.179878</td>\n",
       "      <td>0.017157</td>\n",
       "      <td></td>\n",
       "    </tr>\n",
       "    <tr>\n",
       "      <th>1</th>\n",
       "      <td>2</td>\n",
       "      <td>202.429490</td>\n",
       "      <td>0.327400</td>\n",
       "      <td>0.038113</td>\n",
       "      <td></td>\n",
       "    </tr>\n",
       "    <tr>\n",
       "      <th>2</th>\n",
       "      <td>3</td>\n",
       "      <td>275.027927</td>\n",
       "      <td>0.448386</td>\n",
       "      <td>0.049335</td>\n",
       "      <td></td>\n",
       "    </tr>\n",
       "    <tr>\n",
       "      <th>3</th>\n",
       "      <td>4</td>\n",
       "      <td>342.089361</td>\n",
       "      <td>0.547609</td>\n",
       "      <td>0.052242</td>\n",
       "      <td>best</td>\n",
       "    </tr>\n",
       "    <tr>\n",
       "      <th>4</th>\n",
       "      <td>5</td>\n",
       "      <td>403.762516</td>\n",
       "      <td>0.628984</td>\n",
       "      <td>0.050296</td>\n",
       "      <td></td>\n",
       "    </tr>\n",
       "    <tr>\n",
       "      <th>5</th>\n",
       "      <td>6</td>\n",
       "      <td>460.231694</td>\n",
       "      <td>0.695721</td>\n",
       "      <td>0.046116</td>\n",
       "      <td></td>\n",
       "    </tr>\n",
       "    <tr>\n",
       "      <th>6</th>\n",
       "      <td>7</td>\n",
       "      <td>511.712085</td>\n",
       "      <td>0.750454</td>\n",
       "      <td>0.041250</td>\n",
       "      <td></td>\n",
       "    </tr>\n",
       "    <tr>\n",
       "      <th>7</th>\n",
       "      <td>8</td>\n",
       "      <td>558.444544</td>\n",
       "      <td>0.795342</td>\n",
       "      <td>0.036493</td>\n",
       "      <td></td>\n",
       "    </tr>\n",
       "    <tr>\n",
       "      <th>8</th>\n",
       "      <td>9</td>\n",
       "      <td>600.690057</td>\n",
       "      <td>0.832156</td>\n",
       "      <td>0.032195</td>\n",
       "      <td></td>\n",
       "    </tr>\n",
       "    <tr>\n",
       "      <th>9</th>\n",
       "      <td>10</td>\n",
       "      <td>638.724145</td>\n",
       "      <td>0.862347</td>\n",
       "      <td>0.028468</td>\n",
       "      <td></td>\n",
       "    </tr>\n",
       "    <tr>\n",
       "      <th>10</th>\n",
       "      <td>11</td>\n",
       "      <td>672.831402</td>\n",
       "      <td>0.887108</td>\n",
       "      <td>0.025310</td>\n",
       "      <td></td>\n",
       "    </tr>\n",
       "    <tr>\n",
       "      <th>11</th>\n",
       "      <td>12</td>\n",
       "      <td>703.300349</td>\n",
       "      <td>0.907415</td>\n",
       "      <td>0.022665</td>\n",
       "      <td></td>\n",
       "    </tr>\n",
       "    <tr>\n",
       "      <th>12</th>\n",
       "      <td>13</td>\n",
       "      <td>730.418757</td>\n",
       "      <td>0.924069</td>\n",
       "      <td>0.020464</td>\n",
       "      <td></td>\n",
       "    </tr>\n",
       "    <tr>\n",
       "      <th>13</th>\n",
       "      <td>14</td>\n",
       "      <td>754.469527</td>\n",
       "      <td>0.937727</td>\n",
       "      <td>0.018637</td>\n",
       "      <td></td>\n",
       "    </tr>\n",
       "    <tr>\n",
       "      <th>14</th>\n",
       "      <td>15</td>\n",
       "      <td>775.727198</td>\n",
       "      <td>0.948929</td>\n",
       "      <td>0.017121</td>\n",
       "      <td></td>\n",
       "    </tr>\n",
       "    <tr>\n",
       "      <th>15</th>\n",
       "      <td>16</td>\n",
       "      <td>794.455106</td>\n",
       "      <td>0.958115</td>\n",
       "      <td>0.015862</td>\n",
       "      <td></td>\n",
       "    </tr>\n",
       "    <tr>\n",
       "      <th>16</th>\n",
       "      <td>17</td>\n",
       "      <td>810.903177</td>\n",
       "      <td>0.965649</td>\n",
       "      <td>0.014814</td>\n",
       "      <td></td>\n",
       "    </tr>\n",
       "    <tr>\n",
       "      <th>17</th>\n",
       "      <td>18</td>\n",
       "      <td>825.306340</td>\n",
       "      <td>0.971828</td>\n",
       "      <td>0.013940</td>\n",
       "      <td></td>\n",
       "    </tr>\n",
       "    <tr>\n",
       "      <th>18</th>\n",
       "      <td>19</td>\n",
       "      <td>837.883488</td>\n",
       "      <td>0.976896</td>\n",
       "      <td>0.013209</td>\n",
       "      <td></td>\n",
       "    </tr>\n",
       "    <tr>\n",
       "      <th>19</th>\n",
       "      <td>20</td>\n",
       "      <td>848.836934</td>\n",
       "      <td>0.981052</td>\n",
       "      <td>0.012596</td>\n",
       "      <td></td>\n",
       "    </tr>\n",
       "    <tr>\n",
       "      <th>20</th>\n",
       "      <td>21</td>\n",
       "      <td>858.352285</td>\n",
       "      <td>0.984460</td>\n",
       "      <td>0.012082</td>\n",
       "      <td></td>\n",
       "    </tr>\n",
       "    <tr>\n",
       "      <th>21</th>\n",
       "      <td>22</td>\n",
       "      <td>866.598669</td>\n",
       "      <td>0.987255</td>\n",
       "      <td>0.011650</td>\n",
       "      <td></td>\n",
       "    </tr>\n",
       "    <tr>\n",
       "      <th>22</th>\n",
       "      <td>23</td>\n",
       "      <td>873.729236</td>\n",
       "      <td>0.989548</td>\n",
       "      <td>0.011285</td>\n",
       "      <td></td>\n",
       "    </tr>\n",
       "    <tr>\n",
       "      <th>23</th>\n",
       "      <td>24</td>\n",
       "      <td>879.881866</td>\n",
       "      <td>0.991428</td>\n",
       "      <td>0.010978</td>\n",
       "      <td></td>\n",
       "    </tr>\n",
       "    <tr>\n",
       "      <th>24</th>\n",
       "      <td>25</td>\n",
       "      <td>885.180036</td>\n",
       "      <td>0.992970</td>\n",
       "      <td>0.010718</td>\n",
       "      <td></td>\n",
       "    </tr>\n",
       "    <tr>\n",
       "      <th>25</th>\n",
       "      <td>26</td>\n",
       "      <td>889.733785</td>\n",
       "      <td>0.994234</td>\n",
       "      <td>0.010498</td>\n",
       "      <td></td>\n",
       "    </tr>\n",
       "    <tr>\n",
       "      <th>26</th>\n",
       "      <td>27</td>\n",
       "      <td>893.640727</td>\n",
       "      <td>0.995272</td>\n",
       "      <td>0.010312</td>\n",
       "      <td></td>\n",
       "    </tr>\n",
       "    <tr>\n",
       "      <th>27</th>\n",
       "      <td>28</td>\n",
       "      <td>896.987098</td>\n",
       "      <td>0.996122</td>\n",
       "      <td>0.010155</td>\n",
       "      <td></td>\n",
       "    </tr>\n",
       "    <tr>\n",
       "      <th>28</th>\n",
       "      <td>29</td>\n",
       "      <td>899.848786</td>\n",
       "      <td>0.996820</td>\n",
       "      <td>0.010021</td>\n",
       "      <td></td>\n",
       "    </tr>\n",
       "  </tbody>\n",
       "</table>\n",
       "</div>"
      ],
      "text/plain": [
       "     s       delay  delivery rate   utility best s\n",
       "0    1  124.184826       0.179878  0.017157       \n",
       "1    2  202.429490       0.327400  0.038113       \n",
       "2    3  275.027927       0.448386  0.049335       \n",
       "3    4  342.089361       0.547609  0.052242   best\n",
       "4    5  403.762516       0.628984  0.050296       \n",
       "5    6  460.231694       0.695721  0.046116       \n",
       "6    7  511.712085       0.750454  0.041250       \n",
       "7    8  558.444544       0.795342  0.036493       \n",
       "8    9  600.690057       0.832156  0.032195       \n",
       "9   10  638.724145       0.862347  0.028468       \n",
       "10  11  672.831402       0.887108  0.025310       \n",
       "11  12  703.300349       0.907415  0.022665       \n",
       "12  13  730.418757       0.924069  0.020464       \n",
       "13  14  754.469527       0.937727  0.018637       \n",
       "14  15  775.727198       0.948929  0.017121       \n",
       "15  16  794.455106       0.958115  0.015862       \n",
       "16  17  810.903177       0.965649  0.014814       \n",
       "17  18  825.306340       0.971828  0.013940       \n",
       "18  19  837.883488       0.976896  0.013209       \n",
       "19  20  848.836934       0.981052  0.012596       \n",
       "20  21  858.352285       0.984460  0.012082       \n",
       "21  22  866.598669       0.987255  0.011650       \n",
       "22  23  873.729236       0.989548  0.011285       \n",
       "23  24  879.881866       0.991428  0.010978       \n",
       "24  25  885.180036       0.992970  0.010718       \n",
       "25  26  889.733785       0.994234  0.010498       \n",
       "26  27  893.640727       0.995272  0.010312       \n",
       "27  28  896.987098       0.996122  0.010155       \n",
       "28  29  899.848786       0.996820  0.010021       "
      ]
     },
     "execution_count": 40,
     "metadata": {},
     "output_type": "execute_result"
    }
   ],
   "source": [
    "# calculate s from QTable\n",
    "s_exp = (QTable['a=1'] > QTable['a=0']).sum()\n",
    "\n",
    "# channelPktLossRate = 0.3\n",
    "# channelDelay = 125\n",
    "# channelRTO = 125 + 50/4 * 4\n",
    "\n",
    "channelPktLossRate = gamma_exp\n",
    "channelDelay = RTT_exp\n",
    "# channelRTO = RTO_exp\n",
    "channelRTO = RTO_exp\n",
    "\n",
    "smax=30\n",
    "utility_list = []\n",
    "delay_list = []\n",
    "delvy_list = []\n",
    "for rx in range(1, smax):\n",
    "    avgDelay = theoTool.calc_delay_expect(channelPktLossRate, channelDelay, channelRTO, rx)\n",
    "    avgDeliveryRate = theoTool.calc_delvy_rate_expect(channelPktLossRate, rx)\n",
    "    \n",
    "    delvy_list.append(avgDeliveryRate)\n",
    "    delay_list.append(avgDelay)\n",
    "    utility_list.append(utilityCalcHandler(\n",
    "        delvyRate=avgDeliveryRate,\n",
    "        avgDelay=avgDelay,\n",
    "    ))\n",
    "\n",
    "\n",
    "s_theory = np.argmax(utility_list) + 1 # because rx starts from 1\n",
    "best_s_list = ['' if s != s_theory else 'best' for s in range(1, smax) ]\n",
    "\n",
    "utility_for_each_s = pd.DataFrame({'s': list(range(1, smax)), 'delay': delay_list, 'delivery rate': delvy_list, 'utility': utility_list, 'best s': best_s_list})\n",
    "utility_for_each_s"
   ]
  },
  {
   "cell_type": "code",
   "execution_count": 41,
   "metadata": {},
   "outputs": [
    {
     "data": {
      "text/plain": [
       "(487.5839445699348, 0.36272693586457194, 586.722, 0.254947)"
      ]
     },
     "execution_count": 41,
     "metadata": {},
     "output_type": "execute_result"
    }
   ],
   "source": [
    "# delay and delivery rate from data\n",
    "delays_exp, deliveryRate_exp, delays_lst25_exp, deliveryRate_lst25_exp"
   ]
  },
  {
   "cell_type": "code",
   "execution_count": 42,
   "metadata": {},
   "outputs": [
    {
     "name": "stdout",
     "output_type": "stream",
     "text": [
      "Heuristic-RC    0.014838\n",
      "RTQ_final       0.077081\n",
      "Name: 0.6, dtype: float64\n",
      "    Q-theory:a=0  Q-theory:a=1 Q-theory: s*       a=0       a=1 Q-exp: s*\n",
      "0       0.052237      0.685400               0.013914  8.079745          \n",
      "1       0.052237      0.460088               0.013914  3.200180          \n",
      "2       0.052237      0.310046               0.013914  1.325183          \n",
      "3       0.052237      0.191810            *  0.013914  0.482228          \n",
      "4       0.052237      0.000000               0.013914  0.181904          \n",
      "5       0.052237      0.000000               0.013914  0.100624          \n",
      "6       0.052237      0.000000               0.013914  0.046424          \n",
      "7       0.052237      0.000000               0.013914  0.025703          \n",
      "8       0.052237      0.000000               0.013914  0.012684          \n",
      "9       0.052237      0.000000               0.013914  0.017166         *\n",
      "10      0.052237      0.000000               0.013914  0.007186          \n",
      "11      0.052237      0.000000               0.013914  0.015167          \n",
      "12      0.052237      0.000000               0.013914  0.013293          \n",
      "13      0.052237      0.000000               0.013914  0.000126          \n",
      "14      0.052237      0.000000               0.013914  0.000126          \n",
      "15      0.052237      0.000000               0.013914  0.000126          \n",
      "16      0.052237      0.000000               0.013914  0.000126          \n"
     ]
    }
   ],
   "source": [
    "# v from theory\n",
    "\n",
    "# RTQ_v, _ = theoTool.calc_V_theo_norm(RTQ_pktLossRate, timeDivider, alpha, beta, RTQ_delay, RTQ_delay_var, maximumSimulationSmax)\n",
    "# RTQ_v, _ = theoTool.calc_V_theo_uniform(RTQ_pktLossRate, timeDivider, alpha, beta, RTQ_delay-2*RTQ_delay_var, RTQ_delay+2*RTQ_delay_var, maximumSimulationSmax)\n",
    "\n",
    "v_theory, s_theory = theoTool.calc_V_theo_norm(gamma_exp, 100, alpha, beta, RTT_exp, RTTVar_exp, smax)\n",
    "# {'Q - theory': v_theory, 'Q-exp': QTable[:, 1]}\n",
    "q_theory = np.zeros((smax, 2))\n",
    "q_theory[:, 0] = v_theory[s_theory]\n",
    "q_theory[:s_theory, 1] = v_theory[:s_theory]\n",
    "s_theory_list = ['' if s != (s_theory-1) else '*' for s in range(0, smax) ]\n",
    "exp_vs_theory_v = pd.DataFrame({'Q-theory:a=0': q_theory[:, 0], 'Q-theory:a=1': q_theory[:, 1], 'Q-theory: s*': s_theory_list})\n",
    "\n",
    "v_exp = QTable\n",
    "v_exp.reset_index()\n",
    "s_exp_list = ['' if s != (s_exp-1) else '*' for s in range(0, smax) ]\n",
    "\n",
    "\n",
    "exp_vs_theory_v = pd.concat([exp_vs_theory_v, v_exp, pd.DataFrame({'Q-exp: s*':s_exp_list})], ignore_index=False, axis=1)\n",
    "exp_vs_theory_v.rename(\n",
    "    columns={\n",
    "        'a=0': 'Q-exp: a=0',\n",
    "        'a=1': 'Q-exp: a=1'\n",
    "    }\n",
    ")\n",
    "\n",
    "print(utilityVSBetaDf.loc[0.6])\n",
    "print(exp_vs_theory_v.dropna(how='any'))\n"
   ]
  },
  {
   "cell_type": "code",
   "execution_count": 43,
   "metadata": {},
   "outputs": [
    {
     "data": {
      "text/plain": [
       "(0.5302705604911901,\n",
       " 124.18482583603053,\n",
       " 173.65077169355638,\n",
       " 0.8201221796401106,\n",
       " 0.6,\n",
       " 124.18482583603053,\n",
       " 12.369976223524638)"
      ]
     },
     "execution_count": 43,
     "metadata": {},
     "output_type": "execute_result"
    }
   ],
   "source": [
    "delay = RTO_exp * 0 + RTT_exp\n",
    "\n",
    "utilityCalcHandler(1, delay), delay, RTO_exp, gamma_exp, beta, RTT_exp, RTTVar_exp"
   ]
  }
 ],
 "metadata": {
  "interpreter": {
   "hash": "aee8b7b246df8f9039afb4144a1f6fd8d2ca17a180786b69acc140d282b71a49"
  },
  "kernelspec": {
   "display_name": "Python 3.8.7 64-bit",
   "language": "python",
   "name": "python3"
  },
  "language_info": {
   "codemirror_mode": {
    "name": "ipython",
    "version": 3
   },
   "file_extension": ".py",
   "mimetype": "text/x-python",
   "name": "python",
   "nbconvert_exporter": "python",
   "pygments_lexer": "ipython3",
   "version": "3.10.5"
  },
  "orig_nbformat": 4
 },
 "nbformat": 4,
 "nbformat_minor": 2
}
