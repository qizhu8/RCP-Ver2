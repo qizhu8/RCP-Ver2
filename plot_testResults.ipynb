{
 "cells": [
  {
   "cell_type": "markdown",
   "metadata": {},
   "source": [
    "# Plot Test Results"
   ]
  },
  {
   "cell_type": "code",
   "execution_count": 24,
   "metadata": {},
   "outputs": [],
   "source": [
    "# import necessary libraries\n",
    "import os\n",
    "import json\n",
    "import numpy as np\n",
    "import pandas as pd\n",
    "import pickle as pkl\n",
    "import matplotlib.pyplot as plt\n",
    "\n",
    "import DLRCP.theoreticalAnalysis as theoTool"
   ]
  },
  {
   "cell_type": "code",
   "execution_count": 25,
   "metadata": {},
   "outputs": [],
   "source": [
    "# Mapping between official name and alias in scripts\n",
    "protocolName = {\n",
    "    'UDP': 'UDP',\n",
    "    'ARQ_inf_wind': 'ARQ',\n",
    "    'ARQ_finit_wind': 'ARQ finit window',\n",
    "    'TCP': 'TCP',\n",
    "    'RCPQ_Learning': 'RTQ',\n",
    "    'RCPRTQ': 'optimal-RCP' \n",
    "}\n",
    "\n",
    "attributeNameDict = {\n",
    "        \"protocol\": \"ptcl\",\n",
    "        \"generated packets\": \"pkts gen\",\n",
    "        \"sent packets\": \"pkts sent\",\n",
    "        \"packets delivered\": \"pkts dlvy\",\n",
    "        \"delivery percentage\": \"dlvy perc\",\n",
    "        \"average delay\": \"avg dly\",\n",
    "        \"system utility\": \"sys util\",\n",
    "        \"packets delivered (last 25%)\": \"l25p dlvy\",\n",
    "        \"delivery percentage (last 25%)\": \"l25p dlvy perc\",\n",
    "        \"average delay (last 25%)\": \"l25p dly\",\n",
    "        \"system utility (last 25%)\": \"l25p util\",\n",
    "        \"loss\": \"loss\"\n",
    "}"
   ]
  },
  {
   "cell_type": "code",
   "execution_count": 26,
   "metadata": {},
   "outputs": [],
   "source": [
    "# specify test result subfolder and trial folder prefix\n",
    "# resultFolder, subFolderPrefix = \"Results/case_newutility_SumPower_alpha_2_0\", \"SumPower\"\n",
    "# resultFolder, subFolderPrefix = \"Results/case_study_competition_TimeDiscount_alpha_2_0\", \"TimeDiscount\"\n",
    "# resultFolder, subFolderPrefix = \"Results/case_study_TimeDiscount_alpha_2_0\", \"TimeDiscount\"\n",
    "resultFolder, subFolderPrefix = \"Results/dynamic_channel_TimeDiscount_alpha_2_0\", \"TimeDiscount\"\n"
   ]
  },
  {
   "cell_type": "code",
   "execution_count": 27,
   "metadata": {},
   "outputs": [],
   "source": [
    "# figure out the path to each beta value\n",
    "subFolders = os.listdir(resultFolder)\n",
    "subFolders = filter(lambda s: s.startswith(subFolderPrefix), subFolders)\n"
   ]
  },
  {
   "cell_type": "code",
   "execution_count": 28,
   "metadata": {},
   "outputs": [],
   "source": [
    "subFolderBetaMap_unordered = {}\n",
    "for subfolder in subFolders:\n",
    "    betaList = subfolder.split(\"_\")\n",
    "    if len(betaList) > 1:\n",
    "        betaStr = \"\".join(subfolder.split(\"_\")[1:])\n",
    "        beta = int(betaStr) / (10 ** (len(betaStr)-1))\n",
    "        subFolderBetaMap_unordered[subfolder] = {\"beta\": beta}\n",
    "del subFolders\n"
   ]
  },
  {
   "cell_type": "code",
   "execution_count": 29,
   "metadata": {},
   "outputs": [],
   "source": [
    "# order subFolder based on beta value (the second element in the dict.item)\n",
    "subFolderBetaMap = dict(sorted(subFolderBetaMap_unordered.items(), key=lambda x: x[1][\"beta\"]))"
   ]
  },
  {
   "cell_type": "code",
   "execution_count": 30,
   "metadata": {},
   "outputs": [
    {
     "name": "stdout",
     "output_type": "stream",
     "text": [
      "Results/dynamic_channel_TimeDiscount_alpha_2_0/TimeDiscount_0_8_0/RCPRTQ_perf.pkl\n",
      "dict_keys(['perfRecords', 'serverSidePerf', 'clientSidePerf', 'clientPid', 'distincPktsSent', 'pktsPerTick', 'delayPerPkt'])\n"
     ]
    }
   ],
   "source": [
    "# get the performance pkl of RCPRTQ_perf\n",
    "pklPath = os.path.join(resultFolder, list(subFolderBetaMap.keys())[7], \"RCPRTQ_perf.pkl\")\n",
    "print(pklPath)\n",
    "if os.path.isfile(pklPath):\n",
    "    with open(pklPath, 'rb') as f:\n",
    "        data = pkl.load(f)\n",
    "    print(data.keys())"
   ]
  },
  {
   "cell_type": "code",
   "execution_count": 31,
   "metadata": {},
   "outputs": [],
   "source": [
    "def interpretData(data):\n",
    "    perfRecord = np.asarray(data[\"perfRecords\"])\n",
    "    svrPerfDf = pd.DataFrame({\n",
    "        \"time\": perfRecord[:, 0],\n",
    "        \"delivered pkt since before\": perfRecord[:, 1],\n",
    "        \"pkt delivery rate\": perfRecord[:, 2],\n",
    "        \"avg delay\": perfRecord[:, 3],\n",
    "        \"utility\": perfRecord[:, 4]\n",
    "        })\n",
    "    \n",
    "    svrPktID, svrPktDelvyRate, svrAvgDelay = data[\"serverSidePerf\"]\n",
    "\n",
    "    cltPerfDf = pd.DataFrame({\n",
    "        \"retransSoFar\": data[\"clientSidePerf\"][\"retransSoFar\"], \n",
    "        \"retransProb\": data[\"clientSidePerf\"][\"retransProbSoFar\"], \n",
    "        \"ignorePktsSoFar\": data[\"clientSidePerf\"][\"ignorePktsSoFar\"], \n",
    "        })\n",
    "    \n",
    "    return {\n",
    "        \"serverPerfDf\": svrPerfDf,\n",
    "        \"clientPerfDf\": cltPerfDf,\n",
    "        \"perfRecord\": perfRecord\n",
    "    }\n",
    "    \n",
    "# interpretData(data)"
   ]
  },
  {
   "cell_type": "code",
   "execution_count": 32,
   "metadata": {},
   "outputs": [
    {
     "data": {
      "text/plain": [
       "'\\nLet you know what\\'s inside a \"data\" data structure.\\n'"
      ]
     },
     "execution_count": 32,
     "metadata": {},
     "output_type": "execute_result"
    }
   ],
   "source": [
    "\"\"\"\n",
    "Let you know what's inside a \"data\" data structure.\n",
    "\"\"\"\n",
    "\n",
    "# def showDictHierarchy(data, prefix=\"\", level=0):\n",
    "#     if isinstance(data, dict):\n",
    "#         print(\"  \"*level+prefix)\n",
    "#         for key in data:\n",
    "#             showDictHierarchy(data[key], str(key), level+1)\n",
    "#     else:\n",
    "#         print(\"  \"*(level) + prefix + \":\" + str(type(data)))\n",
    "# showDictHierarchy(data)"
   ]
  },
  {
   "cell_type": "markdown",
   "metadata": {},
   "source": [
    "## Load all data"
   ]
  },
  {
   "cell_type": "code",
   "execution_count": 33,
   "metadata": {},
   "outputs": [],
   "source": [
    "# load RTQ\n",
    "for subFolder in subFolderBetaMap:\n",
    "    name = protocolName[\"RCPRTQ\"]\n",
    "    pklPath = os.path.join(resultFolder, subFolder, \"RCPRTQ_perf.pkl\")\n",
    "    if os.path.isfile(pklPath):\n",
    "        with open(pklPath, 'rb') as f:\n",
    "            data = pkl.load(f)\n",
    "        subFolderBetaMap[subFolder][name] = interpretData(data)\n",
    "\n",
    "    name = protocolName[\"RCPQ_Learning\"]\n",
    "    pklPath = os.path.join(resultFolder, subFolder, \"RCPQ_Learning_perf.pkl\")\n",
    "    if os.path.isfile(pklPath):\n",
    "        with open(pklPath, 'rb') as f:\n",
    "            data = pkl.load(f)\n",
    "        subFolderBetaMap[subFolder][name] = interpretData(data)\n"
   ]
  },
  {
   "cell_type": "markdown",
   "metadata": {},
   "source": [
    "### Plot retransmission rate vs beta plot"
   ]
  },
  {
   "cell_type": "code",
   "execution_count": 34,
   "metadata": {},
   "outputs": [],
   "source": [
    "retransProbVsBetaData = {\n",
    "    \"beta\": [subFolderBetaMap[subFolder][\"beta\"] for subFolder in subFolderBetaMap]\n",
    "}\n",
    "\n",
    "if protocolName[\"RCPRTQ\"] in subFolderBetaMap[subFolder]:\n",
    "    retransProbVsBetaData[protocolName[\"RCPRTQ\"]] = [subFolderBetaMap[subFolder][protocolName[\"RCPRTQ\"]][\"clientPerfDf\"][\"retransProb\"].iloc[-1] for subFolder in subFolderBetaMap]\n",
    "\n",
    "if protocolName[\"RCPQ_Learning\"] in subFolderBetaMap[subFolder]:\n",
    "    retransProbVsBetaData[protocolName[\"RCPQ_Learning\"] + \"_middle\"] = [subFolderBetaMap[subFolder][protocolName[\"RCPQ_Learning\"]][\"clientPerfDf\"][\"retransProb\"].iloc[20000] for subFolder in subFolderBetaMap]\n",
    "\n",
    "    retransProbVsBetaData[protocolName[\"RCPQ_Learning\"] + \"_final\"] = [subFolderBetaMap[subFolder][protocolName[\"RCPQ_Learning\"]][\"clientPerfDf\"][\"retransProb\"].iloc[-1] for subFolder in subFolderBetaMap]\n",
    "\n",
    "\n",
    "retransProbVsBetaDf = pd.DataFrame(data=retransProbVsBetaData)\n",
    "retransProbVsBetaDf.set_index(\"beta\", inplace=True)"
   ]
  },
  {
   "cell_type": "code",
   "execution_count": 35,
   "metadata": {},
   "outputs": [],
   "source": [
    "retransProbVsBetaDf = retransProbVsBetaDf.rename(columns={\"RTQ_middle\": \"RTQ\", \"RTQ_final\": \"RTQ-final\"})"
   ]
  },
  {
   "cell_type": "code",
   "execution_count": 36,
   "metadata": {},
   "outputs": [
    {
     "data": {
      "text/html": [
       "<div>\n",
       "<style scoped>\n",
       "    .dataframe tbody tr th:only-of-type {\n",
       "        vertical-align: middle;\n",
       "    }\n",
       "\n",
       "    .dataframe tbody tr th {\n",
       "        vertical-align: top;\n",
       "    }\n",
       "\n",
       "    .dataframe thead th {\n",
       "        text-align: right;\n",
       "    }\n",
       "</style>\n",
       "<table border=\"1\" class=\"dataframe\">\n",
       "  <thead>\n",
       "    <tr style=\"text-align: right;\">\n",
       "      <th></th>\n",
       "      <th>optimal-RCP</th>\n",
       "      <th>RTQ</th>\n",
       "      <th>RTQ-final</th>\n",
       "    </tr>\n",
       "    <tr>\n",
       "      <th>beta</th>\n",
       "      <th></th>\n",
       "      <th></th>\n",
       "      <th></th>\n",
       "    </tr>\n",
       "  </thead>\n",
       "  <tbody>\n",
       "    <tr>\n",
       "      <th>0.1</th>\n",
       "      <td>2.451677e-71</td>\n",
       "      <td>2.079851e-31</td>\n",
       "      <td>1.229385e-66</td>\n",
       "    </tr>\n",
       "    <tr>\n",
       "      <th>0.2</th>\n",
       "      <td>9.025630e-17</td>\n",
       "      <td>6.296501e-30</td>\n",
       "      <td>2.320647e-65</td>\n",
       "    </tr>\n",
       "    <tr>\n",
       "      <th>0.3</th>\n",
       "      <td>6.326956e-01</td>\n",
       "      <td>1.450260e-31</td>\n",
       "      <td>4.328075e-67</td>\n",
       "    </tr>\n",
       "    <tr>\n",
       "      <th>0.4</th>\n",
       "      <td>6.120760e-01</td>\n",
       "      <td>2.410272e-26</td>\n",
       "      <td>1.607309e-61</td>\n",
       "    </tr>\n",
       "    <tr>\n",
       "      <th>0.5</th>\n",
       "      <td>8.047634e-01</td>\n",
       "      <td>6.313030e-01</td>\n",
       "      <td>6.078521e-01</td>\n",
       "    </tr>\n",
       "    <tr>\n",
       "      <th>0.6</th>\n",
       "      <td>8.335863e-01</td>\n",
       "      <td>6.433931e-01</td>\n",
       "      <td>6.537472e-01</td>\n",
       "    </tr>\n",
       "    <tr>\n",
       "      <th>0.7</th>\n",
       "      <td>9.267909e-01</td>\n",
       "      <td>7.898260e-01</td>\n",
       "      <td>8.192034e-01</td>\n",
       "    </tr>\n",
       "    <tr>\n",
       "      <th>0.8</th>\n",
       "      <td>9.166233e-01</td>\n",
       "      <td>9.549548e-01</td>\n",
       "      <td>8.382332e-01</td>\n",
       "    </tr>\n",
       "    <tr>\n",
       "      <th>0.9</th>\n",
       "      <td>9.670173e-01</td>\n",
       "      <td>9.423422e-01</td>\n",
       "      <td>9.517170e-01</td>\n",
       "    </tr>\n",
       "    <tr>\n",
       "      <th>1.0</th>\n",
       "      <td>9.551811e-01</td>\n",
       "      <td>1.000000e+00</td>\n",
       "      <td>1.000000e+00</td>\n",
       "    </tr>\n",
       "  </tbody>\n",
       "</table>\n",
       "</div>"
      ],
      "text/plain": [
       "       optimal-RCP           RTQ     RTQ-final\n",
       "beta                                          \n",
       "0.1   2.451677e-71  2.079851e-31  1.229385e-66\n",
       "0.2   9.025630e-17  6.296501e-30  2.320647e-65\n",
       "0.3   6.326956e-01  1.450260e-31  4.328075e-67\n",
       "0.4   6.120760e-01  2.410272e-26  1.607309e-61\n",
       "0.5   8.047634e-01  6.313030e-01  6.078521e-01\n",
       "0.6   8.335863e-01  6.433931e-01  6.537472e-01\n",
       "0.7   9.267909e-01  7.898260e-01  8.192034e-01\n",
       "0.8   9.166233e-01  9.549548e-01  8.382332e-01\n",
       "0.9   9.670173e-01  9.423422e-01  9.517170e-01\n",
       "1.0   9.551811e-01  1.000000e+00  1.000000e+00"
      ]
     },
     "execution_count": 36,
     "metadata": {},
     "output_type": "execute_result"
    }
   ],
   "source": [
    "retransProbVsBetaDf"
   ]
  },
  {
   "cell_type": "code",
   "execution_count": 37,
   "metadata": {},
   "outputs": [
    {
     "data": {
      "text/plain": [
       "Text(0, 0.5, 'Retransmission Probability')"
      ]
     },
     "execution_count": 37,
     "metadata": {},
     "output_type": "execute_result"
    },
    {
     "data": {
      "image/png": "[encoded data removed]",
      "text/plain": [
       "<Figure size 432x288 with 1 Axes>"
      ]
     },
     "metadata": {
      "needs_background": "light"
     },
     "output_type": "display_data"
    }
   ],
   "source": [
    "protocolPlotSettings = {\"RTQ\": ['g-o', 1], \"RTQ-final\": ['g-o', 0.6], \"optimal-RCP\": ['r-o', 1]}\n",
    "for protocol in protocolPlotSettings:\n",
    "    plt.plot(retransProbVsBetaDf.index, retransProbVsBetaDf[protocol], protocolPlotSettings[protocol][0], alpha=protocolPlotSettings[protocol][1], label=protocol)\n",
    "plt.legend()\n",
    "plt.xlabel(\"beta\")\n",
    "plt.ylabel(\"Retransmission Probability\")"
   ]
  },
  {
   "cell_type": "markdown",
   "metadata": {},
   "source": [
    "Retransmission Probability over time"
   ]
  },
  {
   "cell_type": "code",
   "execution_count": 38,
   "metadata": {},
   "outputs": [],
   "source": [
    "retransProbOverTime_RTQ = [subFolderBetaMap[subFolder][protocolName[\"RCPQ_Learning\"]][\"clientPerfDf\"][\"retransProb\"] for subFolder in subFolderBetaMap]\n",
    "retransProbOverTime_RCP = [subFolderBetaMap[subFolder][protocolName[\"RCPRTQ\"]][\"clientPerfDf\"][\"retransProb\"] for subFolder in subFolderBetaMap]"
   ]
  },
  {
   "cell_type": "code",
   "execution_count": 54,
   "metadata": {},
   "outputs": [
    {
     "data": {
      "text/plain": [
       "[<matplotlib.lines.Line2D at 0x7fe03a3e7c10>]"
      ]
     },
     "execution_count": 54,
     "metadata": {},
     "output_type": "execute_result"
    },
    {
     "data": {
      "image/png": "[encoded data removed]",
      "text/plain": [
       "<Figure size 432x288 with 1 Axes>"
      ]
     },
     "metadata": {
      "needs_background": "light"
     },
     "output_type": "display_data"
    }
   ],
   "source": [
    "plt.plot(retransProbOverTime_RTQ[7])"
   ]
  },
  {
   "cell_type": "markdown",
   "metadata": {},
   "source": [
    "## Plot Utility vs Beta"
   ]
  },
  {
   "cell_type": "code",
   "execution_count": 40,
   "metadata": {},
   "outputs": [],
   "source": [
    "utilityVSBetaData = {\n",
    "    \"beta\": [subFolderBetaMap[subFolder][\"beta\"] for subFolder in subFolderBetaMap]\n",
    "}\n",
    "if protocolName[\"RCPRTQ\"] in subFolderBetaMap[subFolder]:\n",
    "    utilityVSBetaData[protocolName[\"RCPRTQ\"]] = [subFolderBetaMap[subFolder][protocolName[\"RCPRTQ\"]][\"serverPerfDf\"][\"utility\"].iloc[-1] for subFolder in subFolderBetaMap]\n",
    "\n",
    "if protocolName[\"RCPQ_Learning\"] in subFolderBetaMap[subFolder]:\n",
    "    # utilityVSBetaData[protocolName[\"RCPQ_Learning\"] + \"_middle\"] = [subFolderBetaMap[subFolder][protocolName[\"RCPQ_Learning\"]][\"serverPerfDf\"][\"utility\"].iloc[20000] for subFolder in subFolderBetaMap]\n",
    "\n",
    "    utilityVSBetaData[protocolName[\"RCPQ_Learning\"] + \"_final\"] = [subFolderBetaMap[subFolder][protocolName[\"RCPQ_Learning\"]][\"serverPerfDf\"][\"utility\"].iloc[-1] for subFolder in subFolderBetaMap]\n",
    "\n",
    "utilityVSBetaDf = pd.DataFrame(data=utilityVSBetaData)\n",
    "utilityVSBetaDf.set_index(\"beta\", inplace=True)"
   ]
  },
  {
   "cell_type": "code",
   "execution_count": 41,
   "metadata": {},
   "outputs": [
    {
     "data": {
      "text/plain": [
       "<AxesSubplot:xlabel='beta'>"
      ]
     },
     "execution_count": 41,
     "metadata": {},
     "output_type": "execute_result"
    },
    {
     "data": {
      "image/png": "[encoded data removed]",
      "text/plain": [
       "<Figure size 432x288 with 1 Axes>"
      ]
     },
     "metadata": {
      "needs_background": "light"
     },
     "output_type": "display_data"
    }
   ],
   "source": [
    "utilityVSBetaDf.plot()"
   ]
  },
  {
   "cell_type": "markdown",
   "metadata": {},
   "source": [
    "## Summary of Q table"
   ]
  },
  {
   "cell_type": "code",
   "execution_count": 42,
   "metadata": {},
   "outputs": [],
   "source": [
    "betaIdx=5\n",
    "alpha = 2\n",
    "subFolder = list(subFolderBetaMap.keys())[betaIdx]\n",
    "beta = subFolderBetaMap[subFolder][\"beta\"]\n",
    "\n",
    "QDebugFile = os.path.join(resultFolder, subFolder, \"QTable.txtdebug.csv\")\n",
    "QTableFile = os.path.join(resultFolder, subFolder, \"QTable.txt\")\n",
    "# QDebugFile = 'Results/case_study_TimeDiscount_alpha_2_0/TimeDiscount_{}_{}/QTable.txtdebug.csv'.format(beta_digit1, beta_digit2)\n",
    "# QTableFile = 'Results/case_study_TimeDiscount_alpha_2_0/TimeDiscount_{}_{}/QTable.txt'.format(beta_digit1, beta_digit2)\n",
    "# print(QDebugFile)\n",
    "df = pd.read_csv(QDebugFile)\n",
    "QTable = pd.read_csv(QTableFile, names=['a=0', 'a=1'])"
   ]
  },
  {
   "cell_type": "code",
   "execution_count": 43,
   "metadata": {},
   "outputs": [],
   "source": [
    "delays_exp = df['curDelay'].mean()\n",
    "deliveryRate_exp = df['curDelvyRate'].mean()\n",
    "delays_lst25_exp = df['curDelay'][-1000:].mean()\n",
    "deliveryRate_lst25_exp = df['curDelvyRate'][-1000:].mean()\n",
    "\n",
    "gamma_exp = df['curChPktLoss'].mean()\n",
    "txAttempts = df['curTxAttemp']\n",
    "RTT_exp = df['curRTT'].mean()\n",
    "RTO_exp = df['curRTO'].mean()\n",
    "RTTVar_exp = df['curRTTVar'].mean()"
   ]
  },
  {
   "cell_type": "code",
   "execution_count": 44,
   "metadata": {},
   "outputs": [],
   "source": [
    "def utilityCalcHandler(delvyRate, avgDelay):\n",
    "    return beta ** (avgDelay / 100) * (delvyRate ** alpha)"
   ]
  },
  {
   "cell_type": "code",
   "execution_count": 45,
   "metadata": {},
   "outputs": [
    {
     "data": {
      "text/html": [
       "<div>\n",
       "<style scoped>\n",
       "    .dataframe tbody tr th:only-of-type {\n",
       "        vertical-align: middle;\n",
       "    }\n",
       "\n",
       "    .dataframe tbody tr th {\n",
       "        vertical-align: top;\n",
       "    }\n",
       "\n",
       "    .dataframe thead th {\n",
       "        text-align: right;\n",
       "    }\n",
       "</style>\n",
       "<table border=\"1\" class=\"dataframe\">\n",
       "  <thead>\n",
       "    <tr style=\"text-align: right;\">\n",
       "      <th></th>\n",
       "      <th>s</th>\n",
       "      <th>delay</th>\n",
       "      <th>delivery rate</th>\n",
       "      <th>utility</th>\n",
       "      <th>best s</th>\n",
       "    </tr>\n",
       "  </thead>\n",
       "  <tbody>\n",
       "    <tr>\n",
       "      <th>0</th>\n",
       "      <td>1</td>\n",
       "      <td>123.816068</td>\n",
       "      <td>0.517738</td>\n",
       "      <td>0.142408</td>\n",
       "      <td></td>\n",
       "    </tr>\n",
       "    <tr>\n",
       "      <th>1</th>\n",
       "      <td>2</td>\n",
       "      <td>180.320133</td>\n",
       "      <td>0.767423</td>\n",
       "      <td>0.234440</td>\n",
       "      <td></td>\n",
       "    </tr>\n",
       "    <tr>\n",
       "      <th>2</th>\n",
       "      <td>3</td>\n",
       "      <td>219.764715</td>\n",
       "      <td>0.887837</td>\n",
       "      <td>0.256520</td>\n",
       "      <td>best</td>\n",
       "    </tr>\n",
       "    <tr>\n",
       "      <th>3</th>\n",
       "      <td>4</td>\n",
       "      <td>245.859789</td>\n",
       "      <td>0.945908</td>\n",
       "      <td>0.254836</td>\n",
       "      <td></td>\n",
       "    </tr>\n",
       "    <tr>\n",
       "      <th>4</th>\n",
       "      <td>5</td>\n",
       "      <td>262.326156</td>\n",
       "      <td>0.973913</td>\n",
       "      <td>0.248355</td>\n",
       "      <td></td>\n",
       "    </tr>\n",
       "    <tr>\n",
       "      <th>5</th>\n",
       "      <td>6</td>\n",
       "      <td>272.308872</td>\n",
       "      <td>0.987419</td>\n",
       "      <td>0.242599</td>\n",
       "      <td></td>\n",
       "    </tr>\n",
       "    <tr>\n",
       "      <th>6</th>\n",
       "      <td>7</td>\n",
       "      <td>278.164278</td>\n",
       "      <td>0.993933</td>\n",
       "      <td>0.238567</td>\n",
       "      <td></td>\n",
       "    </tr>\n",
       "    <tr>\n",
       "      <th>7</th>\n",
       "      <td>8</td>\n",
       "      <td>281.507904</td>\n",
       "      <td>0.997074</td>\n",
       "      <td>0.236011</td>\n",
       "      <td></td>\n",
       "    </tr>\n",
       "    <tr>\n",
       "      <th>8</th>\n",
       "      <td>9</td>\n",
       "      <td>283.376349</td>\n",
       "      <td>0.998589</td>\n",
       "      <td>0.234480</td>\n",
       "      <td></td>\n",
       "    </tr>\n",
       "    <tr>\n",
       "      <th>9</th>\n",
       "      <td>10</td>\n",
       "      <td>284.402368</td>\n",
       "      <td>0.999319</td>\n",
       "      <td>0.233596</td>\n",
       "      <td></td>\n",
       "    </tr>\n",
       "    <tr>\n",
       "      <th>10</th>\n",
       "      <td>11</td>\n",
       "      <td>284.957851</td>\n",
       "      <td>0.999672</td>\n",
       "      <td>0.233098</td>\n",
       "      <td></td>\n",
       "    </tr>\n",
       "    <tr>\n",
       "      <th>11</th>\n",
       "      <td>12</td>\n",
       "      <td>285.255113</td>\n",
       "      <td>0.999842</td>\n",
       "      <td>0.232824</td>\n",
       "      <td></td>\n",
       "    </tr>\n",
       "    <tr>\n",
       "      <th>12</th>\n",
       "      <td>13</td>\n",
       "      <td>285.412667</td>\n",
       "      <td>0.999924</td>\n",
       "      <td>0.232675</td>\n",
       "      <td></td>\n",
       "    </tr>\n",
       "    <tr>\n",
       "      <th>13</th>\n",
       "      <td>14</td>\n",
       "      <td>285.495503</td>\n",
       "      <td>0.999963</td>\n",
       "      <td>0.232595</td>\n",
       "      <td></td>\n",
       "    </tr>\n",
       "    <tr>\n",
       "      <th>14</th>\n",
       "      <td>15</td>\n",
       "      <td>285.538760</td>\n",
       "      <td>0.999982</td>\n",
       "      <td>0.232552</td>\n",
       "      <td></td>\n",
       "    </tr>\n",
       "    <tr>\n",
       "      <th>15</th>\n",
       "      <td>16</td>\n",
       "      <td>285.561216</td>\n",
       "      <td>0.999991</td>\n",
       "      <td>0.232530</td>\n",
       "      <td></td>\n",
       "    </tr>\n",
       "    <tr>\n",
       "      <th>16</th>\n",
       "      <td>17</td>\n",
       "      <td>285.572816</td>\n",
       "      <td>0.999996</td>\n",
       "      <td>0.232518</td>\n",
       "      <td></td>\n",
       "    </tr>\n",
       "    <tr>\n",
       "      <th>17</th>\n",
       "      <td>18</td>\n",
       "      <td>285.578781</td>\n",
       "      <td>0.999998</td>\n",
       "      <td>0.232512</td>\n",
       "      <td></td>\n",
       "    </tr>\n",
       "    <tr>\n",
       "      <th>18</th>\n",
       "      <td>19</td>\n",
       "      <td>285.581837</td>\n",
       "      <td>0.999999</td>\n",
       "      <td>0.232509</td>\n",
       "      <td></td>\n",
       "    </tr>\n",
       "    <tr>\n",
       "      <th>19</th>\n",
       "      <td>20</td>\n",
       "      <td>285.583397</td>\n",
       "      <td>1.000000</td>\n",
       "      <td>0.232507</td>\n",
       "      <td></td>\n",
       "    </tr>\n",
       "    <tr>\n",
       "      <th>20</th>\n",
       "      <td>21</td>\n",
       "      <td>285.584191</td>\n",
       "      <td>1.000000</td>\n",
       "      <td>0.232506</td>\n",
       "      <td></td>\n",
       "    </tr>\n",
       "    <tr>\n",
       "      <th>21</th>\n",
       "      <td>22</td>\n",
       "      <td>285.584594</td>\n",
       "      <td>1.000000</td>\n",
       "      <td>0.232506</td>\n",
       "      <td></td>\n",
       "    </tr>\n",
       "    <tr>\n",
       "      <th>22</th>\n",
       "      <td>23</td>\n",
       "      <td>285.584798</td>\n",
       "      <td>1.000000</td>\n",
       "      <td>0.232506</td>\n",
       "      <td></td>\n",
       "    </tr>\n",
       "    <tr>\n",
       "      <th>23</th>\n",
       "      <td>24</td>\n",
       "      <td>285.584901</td>\n",
       "      <td>1.000000</td>\n",
       "      <td>0.232506</td>\n",
       "      <td></td>\n",
       "    </tr>\n",
       "    <tr>\n",
       "      <th>24</th>\n",
       "      <td>25</td>\n",
       "      <td>285.584953</td>\n",
       "      <td>1.000000</td>\n",
       "      <td>0.232506</td>\n",
       "      <td></td>\n",
       "    </tr>\n",
       "    <tr>\n",
       "      <th>25</th>\n",
       "      <td>26</td>\n",
       "      <td>285.584979</td>\n",
       "      <td>1.000000</td>\n",
       "      <td>0.232506</td>\n",
       "      <td></td>\n",
       "    </tr>\n",
       "    <tr>\n",
       "      <th>26</th>\n",
       "      <td>27</td>\n",
       "      <td>285.584992</td>\n",
       "      <td>1.000000</td>\n",
       "      <td>0.232506</td>\n",
       "      <td></td>\n",
       "    </tr>\n",
       "    <tr>\n",
       "      <th>27</th>\n",
       "      <td>28</td>\n",
       "      <td>285.584999</td>\n",
       "      <td>1.000000</td>\n",
       "      <td>0.232506</td>\n",
       "      <td></td>\n",
       "    </tr>\n",
       "    <tr>\n",
       "      <th>28</th>\n",
       "      <td>29</td>\n",
       "      <td>285.585002</td>\n",
       "      <td>1.000000</td>\n",
       "      <td>0.232506</td>\n",
       "      <td></td>\n",
       "    </tr>\n",
       "  </tbody>\n",
       "</table>\n",
       "</div>"
      ],
      "text/plain": [
       "     s       delay  delivery rate   utility best s\n",
       "0    1  123.816068       0.517738  0.142408       \n",
       "1    2  180.320133       0.767423  0.234440       \n",
       "2    3  219.764715       0.887837  0.256520   best\n",
       "3    4  245.859789       0.945908  0.254836       \n",
       "4    5  262.326156       0.973913  0.248355       \n",
       "5    6  272.308872       0.987419  0.242599       \n",
       "6    7  278.164278       0.993933  0.238567       \n",
       "7    8  281.507904       0.997074  0.236011       \n",
       "8    9  283.376349       0.998589  0.234480       \n",
       "9   10  284.402368       0.999319  0.233596       \n",
       "10  11  284.957851       0.999672  0.233098       \n",
       "11  12  285.255113       0.999842  0.232824       \n",
       "12  13  285.412667       0.999924  0.232675       \n",
       "13  14  285.495503       0.999963  0.232595       \n",
       "14  15  285.538760       0.999982  0.232552       \n",
       "15  16  285.561216       0.999991  0.232530       \n",
       "16  17  285.572816       0.999996  0.232518       \n",
       "17  18  285.578781       0.999998  0.232512       \n",
       "18  19  285.581837       0.999999  0.232509       \n",
       "19  20  285.583397       1.000000  0.232507       \n",
       "20  21  285.584191       1.000000  0.232506       \n",
       "21  22  285.584594       1.000000  0.232506       \n",
       "22  23  285.584798       1.000000  0.232506       \n",
       "23  24  285.584901       1.000000  0.232506       \n",
       "24  25  285.584953       1.000000  0.232506       \n",
       "25  26  285.584979       1.000000  0.232506       \n",
       "26  27  285.584992       1.000000  0.232506       \n",
       "27  28  285.584999       1.000000  0.232506       \n",
       "28  29  285.585002       1.000000  0.232506       "
      ]
     },
     "execution_count": 45,
     "metadata": {},
     "output_type": "execute_result"
    }
   ],
   "source": [
    "# calculate s from QTable\n",
    "s_exp = (QTable['a=1'] > QTable['a=0']).sum()\n",
    "\n",
    "# channelPktLossRate = 0.3\n",
    "# channelDelay = 125\n",
    "# channelRTO = 125 + 50/4 * 4\n",
    "\n",
    "channelPktLossRate = gamma_exp\n",
    "channelDelay = RTT_exp\n",
    "# channelRTO = RTO_exp\n",
    "channelRTO = RTO_exp\n",
    "\n",
    "smax=30\n",
    "utility_list = []\n",
    "delay_list = []\n",
    "delvy_list = []\n",
    "for rx in range(1, smax):\n",
    "    avgDelay = theoTool.calc_delay_expect(channelPktLossRate, channelDelay, channelRTO, rx)\n",
    "    avgDeliveryRate = theoTool.calc_delvy_rate_expect(channelPktLossRate, rx)\n",
    "    \n",
    "    delvy_list.append(avgDeliveryRate)\n",
    "    delay_list.append(avgDelay)\n",
    "    utility_list.append(utilityCalcHandler(\n",
    "        delvyRate=avgDeliveryRate,\n",
    "        avgDelay=avgDelay,\n",
    "    ))\n",
    "\n",
    "\n",
    "s_theory = np.argmax(utility_list) + 1 # because rx starts from 1\n",
    "best_s_list = ['' if s != s_theory else 'best' for s in range(1, smax) ]\n",
    "\n",
    "utility_for_each_s = pd.DataFrame({'s': list(range(1, smax)), 'delay': delay_list, 'delivery rate': delvy_list, 'utility': utility_list, 'best s': best_s_list})\n",
    "utility_for_each_s"
   ]
  },
  {
   "cell_type": "code",
   "execution_count": 46,
   "metadata": {},
   "outputs": [
    {
     "data": {
      "text/plain": [
       "(213.08267370272648, 0.7377595426561124, 213.554, 0.746717)"
      ]
     },
     "execution_count": 46,
     "metadata": {},
     "output_type": "execute_result"
    }
   ],
   "source": [
    "# delay and delivery rate from data\n",
    "delays_exp, deliveryRate_exp, delays_lst25_exp, deliveryRate_lst25_exp"
   ]
  },
  {
   "cell_type": "code",
   "execution_count": 47,
   "metadata": {},
   "outputs": [
    {
     "name": "stdout",
     "output_type": "stream",
     "text": [
      "optimal-RCP    0.227197\n",
      "RTQ_final      0.238562\n",
      "Name: 0.6, dtype: float64\n",
      "   Q-theory:a=0  Q-theory:a=1 Q-theory: s*       a=0       a=1 Q-exp: s*\n",
      "0      0.256508      0.624977               0.234258  0.612848          \n",
      "1      0.256508      0.472658               0.234258  0.336176         *\n",
      "2      0.256508      0.376266            *  0.234258  0.178895          \n",
      "3      0.256508      0.000000               0.234258  0.115282          \n",
      "4      0.256508      0.000000               0.234258  0.041910          \n",
      "5      0.256508      0.000000               0.234258  0.041910          \n"
     ]
    }
   ],
   "source": [
    "# v from theory\n",
    "\n",
    "# RTQ_v, _ = theoTool.calc_V_theo_norm(RTQ_pktLossRate, timeDivider, alpha, beta, RTQ_delay, RTQ_delay_var, maximumSimulationSmax)\n",
    "# RTQ_v, _ = theoTool.calc_V_theo_uniform(RTQ_pktLossRate, timeDivider, alpha, beta, RTQ_delay-2*RTQ_delay_var, RTQ_delay+2*RTQ_delay_var, maximumSimulationSmax)\n",
    "\n",
    "v_theory, s_theory = theoTool.calc_V_theo_norm(gamma_exp, 100, alpha, beta, RTT_exp, RTTVar_exp, smax)\n",
    "# {'Q - theory': v_theory, 'Q-exp': QTable[:, 1]}\n",
    "q_theory = np.zeros((smax, 2))\n",
    "q_theory[:, 0] = v_theory[s_theory]\n",
    "q_theory[:s_theory, 1] = v_theory[:s_theory]\n",
    "s_theory_list = ['' if s != (s_theory-1) else '*' for s in range(0, smax) ]\n",
    "exp_vs_theory_v = pd.DataFrame({'Q-theory:a=0': q_theory[:, 0], 'Q-theory:a=1': q_theory[:, 1], 'Q-theory: s*': s_theory_list})\n",
    "\n",
    "v_exp = QTable\n",
    "v_exp.reset_index()\n",
    "s_exp_list = ['' if s != (s_exp-1) else '*' for s in range(0, smax) ]\n",
    "\n",
    "\n",
    "exp_vs_theory_v = pd.concat([exp_vs_theory_v, v_exp, pd.DataFrame({'Q-exp: s*':s_exp_list})], ignore_index=False, axis=1)\n",
    "exp_vs_theory_v.rename(\n",
    "    columns={\n",
    "        'a=0': 'Q-exp: a=0',\n",
    "        'a=1': 'Q-exp: a=1'\n",
    "    }\n",
    ")\n",
    "\n",
    "print(utilityVSBetaDf.loc[0.6])\n",
    "print(exp_vs_theory_v.dropna(how='any'))\n"
   ]
  },
  {
   "cell_type": "code",
   "execution_count": 48,
   "metadata": {},
   "outputs": [
    {
     "data": {
      "text/plain": [
       "(0.5312703772837977,\n",
       " 123.81606810874898,\n",
       " 173.66862147845123,\n",
       " 0.4822624450307828,\n",
       " 0.6,\n",
       " 123.81606810874898,\n",
       " 12.467347413916949)"
      ]
     },
     "execution_count": 48,
     "metadata": {},
     "output_type": "execute_result"
    }
   ],
   "source": [
    "delay = RTO_exp * 0 + RTT_exp\n",
    "\n",
    "utilityCalcHandler(1, delay), delay, RTO_exp, gamma_exp, beta, RTT_exp, RTTVar_exp"
   ]
  }
 ],
 "metadata": {
  "interpreter": {
   "hash": "aee8b7b246df8f9039afb4144a1f6fd8d2ca17a180786b69acc140d282b71a49"
  },
  "kernelspec": {
   "display_name": "Python 3.8.7 64-bit",
   "language": "python",
   "name": "python3"
  },
  "language_info": {
   "codemirror_mode": {
    "name": "ipython",
    "version": 3
   },
   "file_extension": ".py",
   "mimetype": "text/x-python",
   "name": "python",
   "nbconvert_exporter": "python",
   "pygments_lexer": "ipython3",
   "version": "3.8.7"
  },
  "orig_nbformat": 4
 },
 "nbformat": 4,
 "nbformat_minor": 2
}
