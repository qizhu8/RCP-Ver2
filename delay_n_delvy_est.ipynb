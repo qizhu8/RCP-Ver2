{
 "cells": [
  {
   "cell_type": "markdown",
   "metadata": {},
   "source": [
    "# Debug Missmatch of Maximum Retransmission"
   ]
  },
  {
   "cell_type": "code",
   "execution_count": 2,
   "metadata": {},
   "outputs": [],
   "source": [
    "import random\n",
    "import pandas as pd\n",
    "import numpy as np\n",
    "import math\n",
    "from scipy.stats import norm\n",
    "import matplotlib.pyplot as plt"
   ]
  },
  {
   "cell_type": "code",
   "execution_count": 3,
   "metadata": {},
   "outputs": [],
   "source": [
    "beta = 0.6\n",
    "# gamma = 0.2996949554421148\n",
    "gamma = 0.234\n",
    "alpha = 2\n",
    "timeDivider = 100\n",
    "rtt = 124.4275\n",
    "rttvar = 12.692700103043293\n",
    "rto = 175.1967\n",
    "rxMaxList = [1, 2, 3, 4, 5]"
   ]
  },
  {
   "cell_type": "markdown",
   "metadata": {},
   "source": [
    "## Theoretical Method"
   ]
  },
  {
   "cell_type": "markdown",
   "metadata": {},
   "source": [
    "### Calculate S by checking each possible retransmission value"
   ]
  },
  {
   "cell_type": "code",
   "execution_count": 4,
   "metadata": {},
   "outputs": [],
   "source": [
    "def calc_delvy_rate_expect(gamma, rxMax):\n",
    "    # calculated\n",
    "    return 1 - gamma**rxMax\n",
    "\n",
    "\n",
    "def calc_delay_expect(gamma, rtt, rto, rxMax):\n",
    "    if gamma == 1:\n",
    "        return rtt + rto * (rxMax-1)\n",
    "    numerator = rtt + rto * (gamma * (1-gamma ** (rxMax-1)))/(1-gamma) - (rtt + (rxMax-1)*rto)*(gamma**rxMax)\n",
    "    denominator = 1 - gamma ** rxMax\n",
    "    return numerator / denominator\n",
    "\n",
    "def calc_utility(delay, delvy, alpha, beta, timeDivider):\n",
    "    r = (beta**(delay/timeDivider)) * (delvy**alpha)\n",
    "    return r"
   ]
  },
  {
   "cell_type": "code",
   "execution_count": 5,
   "metadata": {},
   "outputs": [
    {
     "data": {
      "text/html": [
       "<div>\n",
       "<style scoped>\n",
       "    .dataframe tbody tr th:only-of-type {\n",
       "        vertical-align: middle;\n",
       "    }\n",
       "\n",
       "    .dataframe tbody tr th {\n",
       "        vertical-align: top;\n",
       "    }\n",
       "\n",
       "    .dataframe thead th {\n",
       "        text-align: right;\n",
       "    }\n",
       "</style>\n",
       "<table border=\"1\" class=\"dataframe\">\n",
       "  <thead>\n",
       "    <tr style=\"text-align: right;\">\n",
       "      <th></th>\n",
       "      <th>delay</th>\n",
       "      <th>delivery</th>\n",
       "      <th>utility</th>\n",
       "      <th>best</th>\n",
       "    </tr>\n",
       "    <tr>\n",
       "      <th>txTimes</th>\n",
       "      <th></th>\n",
       "      <th></th>\n",
       "      <th></th>\n",
       "      <th></th>\n",
       "    </tr>\n",
       "  </thead>\n",
       "  <tbody>\n",
       "    <tr>\n",
       "      <th>1</th>\n",
       "      <td>124.427500</td>\n",
       "      <td>0.766000</td>\n",
       "      <td>0.310754</td>\n",
       "      <td></td>\n",
       "    </tr>\n",
       "    <tr>\n",
       "      <th>2</th>\n",
       "      <td>157.649565</td>\n",
       "      <td>0.945244</td>\n",
       "      <td>0.399341</td>\n",
       "      <td></td>\n",
       "    </tr>\n",
       "    <tr>\n",
       "      <th>3</th>\n",
       "      <td>171.125377</td>\n",
       "      <td>0.987187</td>\n",
       "      <td>0.406593</td>\n",
       "      <td>best</td>\n",
       "    </tr>\n",
       "    <tr>\n",
       "      <th>4</th>\n",
       "      <td>175.839687</td>\n",
       "      <td>0.997002</td>\n",
       "      <td>0.404850</td>\n",
       "      <td></td>\n",
       "    </tr>\n",
       "    <tr>\n",
       "      <th>5</th>\n",
       "      <td>177.332112</td>\n",
       "      <td>0.999298</td>\n",
       "      <td>0.403628</td>\n",
       "      <td></td>\n",
       "    </tr>\n",
       "  </tbody>\n",
       "</table>\n",
       "</div>"
      ],
      "text/plain": [
       "              delay  delivery   utility  best\n",
       "txTimes                                      \n",
       "1        124.427500  0.766000  0.310754      \n",
       "2        157.649565  0.945244  0.399341      \n",
       "3        171.125377  0.987187  0.406593  best\n",
       "4        175.839687  0.997002  0.404850      \n",
       "5        177.332112  0.999298  0.403628      "
      ]
     },
     "execution_count": 5,
     "metadata": {},
     "output_type": "execute_result"
    }
   ],
   "source": [
    "delay_theory = [calc_delay_expect(gamma, rtt, rto, rxMax) for rxMax in rxMaxList]\n",
    "delvy_theory = [calc_delvy_rate_expect(gamma, rxMax) for rxMax in rxMaxList]\n",
    "\n",
    "utilityRxList = [calc_utility(delay, delvy, alpha, beta, timeDivider) for delay, delvy in zip(delay_theory, delvy_theory)]\n",
    "bstUtilityId = np.argmax(utilityRxList)\n",
    "bestMarker = [\"\"] * len(utilityRxList)\n",
    "bestMarker[bstUtilityId] = \"best\"\n",
    "bestUtility = utilityRxList[bstUtilityId]\n",
    "\n",
    "utilityDf = pd.DataFrame({\"txTimes\":rxMaxList, \"delay\": delay_theory, \"delivery\": delvy_theory, \"utility\": utilityRxList, \"best\": bestMarker})\n",
    "utilityDf.set_index(\"txTimes\")"
   ]
  },
  {
   "cell_type": "code",
   "execution_count": 6,
   "metadata": {},
   "outputs": [
    {
     "data": {
      "text/plain": [
       "<matplotlib.legend.Legend at 0x7fcea8b1eb20>"
      ]
     },
     "execution_count": 6,
     "metadata": {},
     "output_type": "execute_result"
    },
    {
     "data": {
      "image/png": "[encoded data removed]",
      "text/plain": [
       "<Figure size 432x288 with 1 Axes>"
      ]
     },
     "metadata": {
      "needs_background": "light"
     },
     "output_type": "display_data"
    }
   ],
   "source": [
    "plt.plot(utilityDf.index, utilityDf.utility, 'b-o', label=\"utility\")\n",
    "plt.xlabel(\"s\")\n",
    "plt.ylabel(\"Utility\")\n",
    "plt.legend()"
   ]
  },
  {
   "cell_type": "markdown",
   "metadata": {},
   "source": [
    "### Calculating the Q table using the SMDP method"
   ]
  },
  {
   "cell_type": "code",
   "execution_count": 7,
   "metadata": {},
   "outputs": [],
   "source": [
    "def calc_qij_approx_norm(beta, mean, var, rx, timeDivider):\n",
    "    \"\"\"\n",
    "    qij is the expected reward discount between state i and state j\n",
    "    Channel delay is a Gaussian\n",
    "\n",
    "    But !!!!! var here is not variance. According to RFC, var = E[|rtt - mean|]\n",
    "    var is more a standard deviation. Maybe they want to use var2 to represent the variance.\n",
    "    rto is approximated by mean + 4 * std \n",
    "\n",
    "    \"\"\"\n",
    "    # var *= var\n",
    "\n",
    "    rto = mean + 4*var\n",
    "    # mean is the average time gap between state i and state j, which is \n",
    "    # mean = (j-i) * rto\n",
    "    mean = (rto*rx)\n",
    "\n",
    "    var *= rx\n",
    "\n",
    "    segments = 1000\n",
    "    # sigma = math.sqrt(var) # three sigma rule\n",
    "    sigma = var\n",
    "    # sample from [-sigma_multi*sigma, +sigma_multi*sigma]+mean\n",
    "    sigma_multi = 3\n",
    "    dx = 2*sigma_multi*sigma / segments\n",
    "    x = np.linspace(mean-sigma_multi*sigma, mean+sigma_multi*sigma, segments)\n",
    "    beta_exp_x = np.power(beta, x/timeDivider)\n",
    "    pdf = norm.pdf(x, loc=mean, scale=sigma)\n",
    "    qij = sum(beta_exp_x * pdf * dx)\n",
    "    return qij\n"
   ]
  },
  {
   "cell_type": "code",
   "execution_count": 8,
   "metadata": {},
   "outputs": [],
   "source": [
    "def calc_V_theo_norm(gamma, timeDivider, alpha, beta, mean, var, smax):\n",
    "    \"\"\"\n",
    "    Pay great attention here, var != var(RTT). In RFC, var ~ \\Exp[RTT - RTT_mean]\n",
    "    \"\"\"\n",
    "    channelDelay = mean\n",
    "    channelRTO = mean + 4 * var\n",
    "    utility = []\n",
    "    for s in range(1, smax):\n",
    "        delay_s = calc_delay_expect(gamma, channelDelay, channelDelay + 4*var, s)\n",
    "        deliveryRate_s = calc_delvy_rate_expect(gamma, s)\n",
    "        utility_s = calc_utility(\n",
    "            delay_s, deliveryRate_s, alpha, beta, timeDivider)\n",
    "        utility.append(utility_s)\n",
    "    s = np.argmax(utility)+1  # our s is 1-index\n",
    "    utility_s = utility[s-1]\n",
    "    AB = np.zeros((s, smax))  # the [A, B] matrix in mathematical model\n",
    "    qij_list = np.zeros(smax+1)\n",
    "    for drx in range(1, smax+1):\n",
    "        qij_list[drx] = calc_qij_approx_norm(beta, mean, var, drx, timeDivider)\n",
    "\n",
    "    # qij_list /= sum(qij_list)\n",
    "\n",
    "    for col in range(1, smax+1):\n",
    "        for row in range(0, s):\n",
    "            if row+col < smax:\n",
    "            # if row + col <= s:\n",
    "                AB[row, row+col] = qij_list[col]\n",
    "    \n",
    "    # print(\"qij_list\", qij_list.shape)\n",
    "    # for row in range(0, s):\n",
    "    #     AB[row, row+1] = qij_list[1]\n",
    "\n",
    "    A = AB[:, :s]\n",
    "    B = AB[:, s:]\n",
    "\n",
    "    delayCalc = lambda rx: channelDelay + (rx-1) * channelRTO\n",
    "    h = np.asarray([[utility_s]*(smax - s)]).T\n",
    "    g = np.asarray([[calc_utility(delayCalc(rx), 1, alpha,\n",
    "                   beta, timeDivider) for rx in range(1, s+1)]]).T\n",
    "    v_threory = np.linalg.pinv(\n",
    "        np.eye(s)-gamma*A).dot(B.dot(h) + (1-gamma)*g)\n",
    "    v = np.concatenate([v_threory[:, 0], h[:, 0]])\n",
    "    return v, s, qij_list"
   ]
  },
  {
   "cell_type": "code",
   "execution_count": 9,
   "metadata": {},
   "outputs": [],
   "source": [
    "def calc_qij_approx(alpha, beta, mean, var, rx, timeDivider):\n",
    "    return calc_utility(mean + (mean+var*4)*(rx-1), 1, alpha, beta, timeDivider) / calc_utility(mean, 1, alpha, beta, timeDivider)"
   ]
  },
  {
   "cell_type": "code",
   "execution_count": 10,
   "metadata": {},
   "outputs": [
    {
     "name": "stdout",
     "output_type": "stream",
     "text": [
      "3\n"
     ]
    },
    {
     "data": {
      "text/html": [
       "<div>\n",
       "<style scoped>\n",
       "    .dataframe tbody tr th:only-of-type {\n",
       "        vertical-align: middle;\n",
       "    }\n",
       "\n",
       "    .dataframe tbody tr th {\n",
       "        vertical-align: top;\n",
       "    }\n",
       "\n",
       "    .dataframe thead th {\n",
       "        text-align: right;\n",
       "    }\n",
       "</style>\n",
       "<table border=\"1\" class=\"dataframe\">\n",
       "  <thead>\n",
       "    <tr style=\"text-align: right;\">\n",
       "      <th></th>\n",
       "      <th>v-SMDP</th>\n",
       "      <th>pktSeenProb</th>\n",
       "      <th>qij</th>\n",
       "      <th>qij_approx</th>\n",
       "    </tr>\n",
       "  </thead>\n",
       "  <tbody>\n",
       "    <tr>\n",
       "      <th>0</th>\n",
       "      <td>0.497730</td>\n",
       "      <td>0.766000</td>\n",
       "      <td>0.000000</td>\n",
       "      <td>1.000000</td>\n",
       "    </tr>\n",
       "    <tr>\n",
       "      <th>1</th>\n",
       "      <td>0.315565</td>\n",
       "      <td>0.179244</td>\n",
       "      <td>0.407959</td>\n",
       "      <td>0.408625</td>\n",
       "    </tr>\n",
       "    <tr>\n",
       "      <th>2</th>\n",
       "      <td>0.349993</td>\n",
       "      <td>0.041943</td>\n",
       "      <td>0.167728</td>\n",
       "      <td>0.166974</td>\n",
       "    </tr>\n",
       "    <tr>\n",
       "      <th>3</th>\n",
       "      <td>0.406592</td>\n",
       "      <td>0.009815</td>\n",
       "      <td>0.069242</td>\n",
       "      <td>0.068230</td>\n",
       "    </tr>\n",
       "    <tr>\n",
       "      <th>4</th>\n",
       "      <td>0.406592</td>\n",
       "      <td>0.002297</td>\n",
       "      <td>0.028702</td>\n",
       "      <td>0.027880</td>\n",
       "    </tr>\n",
       "  </tbody>\n",
       "</table>\n",
       "</div>"
      ],
      "text/plain": [
       "     v-SMDP  pktSeenProb       qij  qij_approx\n",
       "0  0.497730     0.766000  0.000000    1.000000\n",
       "1  0.315565     0.179244  0.407959    0.408625\n",
       "2  0.349993     0.041943  0.167728    0.166974\n",
       "3  0.406592     0.009815  0.069242    0.068230\n",
       "4  0.406592     0.002297  0.028702    0.027880"
      ]
     },
     "execution_count": 10,
     "metadata": {},
     "output_type": "execute_result"
    }
   ],
   "source": [
    "v_theory, s_theory, qij_list = calc_V_theo_norm(gamma, 100, alpha, beta, rtt, rttvar, 20)\n",
    "pktSeenProb = [(1-gamma)*(gamma ** (rxMax-1)) for rxMax in rxMaxList]\n",
    "\n",
    "SMDPUtilDf = pd.DataFrame({\"v-SMDP\": v_theory[:len(rxMaxList)], \"pktSeenProb\":pktSeenProb, \"qij\":qij_list[:len(rxMaxList)], \"qij_approx\": [calc_qij_approx(alpha, beta, rtt, rttvar, rx, timeDivider) for rx in rxMaxList]})\n",
    "print(s_theory)\n",
    "SMDPUtilDf"
   ]
  },
  {
   "cell_type": "markdown",
   "metadata": {},
   "source": [
    "Debug qij (pass)"
   ]
  },
  {
   "cell_type": "code",
   "execution_count": 11,
   "metadata": {},
   "outputs": [
    {
     "data": {
      "text/html": [
       "<div>\n",
       "<style scoped>\n",
       "    .dataframe tbody tr th:only-of-type {\n",
       "        vertical-align: middle;\n",
       "    }\n",
       "\n",
       "    .dataframe tbody tr th {\n",
       "        vertical-align: top;\n",
       "    }\n",
       "\n",
       "    .dataframe thead th {\n",
       "        text-align: right;\n",
       "    }\n",
       "</style>\n",
       "<table border=\"1\" class=\"dataframe\">\n",
       "  <thead>\n",
       "    <tr style=\"text-align: right;\">\n",
       "      <th></th>\n",
       "      <th>drx</th>\n",
       "      <th>qij-from function</th>\n",
       "      <th>qij-manual approx</th>\n",
       "    </tr>\n",
       "  </thead>\n",
       "  <tbody>\n",
       "    <tr>\n",
       "      <th>0</th>\n",
       "      <td>1</td>\n",
       "      <td>0.407959</td>\n",
       "      <td>0.408628</td>\n",
       "    </tr>\n",
       "    <tr>\n",
       "      <th>1</th>\n",
       "      <td>2</td>\n",
       "      <td>0.167728</td>\n",
       "      <td>0.166977</td>\n",
       "    </tr>\n",
       "    <tr>\n",
       "      <th>2</th>\n",
       "      <td>3</td>\n",
       "      <td>0.069242</td>\n",
       "      <td>0.068232</td>\n",
       "    </tr>\n",
       "    <tr>\n",
       "      <th>3</th>\n",
       "      <td>4</td>\n",
       "      <td>0.028702</td>\n",
       "      <td>0.027881</td>\n",
       "    </tr>\n",
       "  </tbody>\n",
       "</table>\n",
       "</div>"
      ],
      "text/plain": [
       "   drx  qij-from function  qij-manual approx\n",
       "0    1           0.407959           0.408628\n",
       "1    2           0.167728           0.166977\n",
       "2    3           0.069242           0.068232\n",
       "3    4           0.028702           0.027881"
      ]
     },
     "execution_count": 11,
     "metadata": {},
     "output_type": "execute_result"
    }
   ],
   "source": [
    "drxList = list(range(1,5))\n",
    "qij_func = [0]*len(drxList)\n",
    "qij_manual = [0] * len(drxList)\n",
    "for i, drx in enumerate(drxList):\n",
    "    qij_func[i] = calc_qij_approx_norm(beta, rtt, rttvar, drx, timeDivider)\n",
    "    qij_manual[i] = beta ** (drx*rto/timeDivider)\n",
    "\n",
    "qijDf = pd.DataFrame({\"drx\": drxList, \"qij-from function\":qij_func, \"qij-manual approx\": qij_manual})\n",
    "qijDf.set_index(\"drx\")\n",
    "qijDf\n"
   ]
  },
  {
   "cell_type": "markdown",
   "metadata": {},
   "source": [
    "Debug Reward"
   ]
  },
  {
   "cell_type": "code",
   "execution_count": 12,
   "metadata": {},
   "outputs": [
    {
     "name": "stdout",
     "output_type": "stream",
     "text": [
      "target result from SMDP\n",
      "SMDP-Delay 171.12537672018595\n",
      "SMDP-Delvy 0.987187096\n",
      "SMDP-utilt 0.4065925634664733\n",
      "SMDP-txMax 3\n",
      "0 124.4275\n",
      "1 299.6242\n",
      "2 474.8209\n",
      "[0.5296136222010434, 0.21641328046227498, 0]\n",
      "[0, 0, 0.343023]\n",
      "[0.766, 0.17924400000000001, 0.054756000000000006]\n"
     ]
    }
   ],
   "source": [
    "def gValCalc(txTimes, pktDelay, rtt, rttvar, txMax, sysDelay, sysDelvy, sysUtil, gamma):\n",
    "    if txTimes <= txMax:\n",
    "        \"\"\"\n",
    "        option 1 - not good. \n",
    "        If delay is large, even delivery = 1, utility is still low.\n",
    "        Accepting a long delay pkt will not significantly reduce system utility, but even increase it \n",
    "        because the witness probability is small. \n",
    "        \"\"\"\n",
    "        # gVal = calc_utility(pktDelay, 1, alpha, beta, timeDivider)\n",
    "        \"\"\"\n",
    "        option 2\n",
    "        \"\"\"\n",
    "        # pktDelvy = calc_delvy_rate_expect(gamma, txTimes)\n",
    "        pktDelvy = 1\n",
    "        # pktDelay = calc_delay_expect(gamma, rtt, rtt+4*rttvar, txTimes)\n",
    "        pktDelay = (rtt + 4 * rttvar) * (txTimes-1) + rtt\n",
    "        gVal = calc_utility(pktDelay, pktDelvy, alpha, beta, timeDivider)\n",
    "    else:\n",
    "        gVal = 0\n",
    "    return gVal\n",
    "\n",
    "def hValCalc(txTimes, delay, rtt, rttvar, txMax, sysDelay, sysDelvy, sysUtil, gamma):\n",
    "    if txTimes > txMax:\n",
    "        hVal = sysUtil\n",
    "    else:\n",
    "        hVal = 0\n",
    "    return hVal\n",
    "\n",
    "def witnessProb(txTimes, gamma, txMax): # txMax, maximum allowed transmission times (inclusive)\n",
    "    if txTimes <= 0:\n",
    "        print(\"we shouldn't seen a pkt with txTimes = 0.\")\n",
    "    if txTimes <= txMax:\n",
    "        # delivered pkt\n",
    "        p = (1-gamma) * (gamma** (txTimes-1))\n",
    "    else:\n",
    "        # dropped pkt\n",
    "        p = gamma ** txMax\n",
    "    return p\n",
    "\n",
    "sysDelay = delay_theory[bstUtilityId]\n",
    "sysDelvy = delvy_theory[bstUtilityId]\n",
    "sysUtil = calc_utility(sysDelay, sysDelvy, alpha, beta, timeDivider)\n",
    "print(\"target result from SMDP\")\n",
    "print(\"SMDP-Delay\", sysDelay)\n",
    "print(\"SMDP-Delvy\", sysDelvy)\n",
    "print(\"SMDP-utilt\", sysUtil)\n",
    "print(\"SMDP-txMax\", s_theory)\n",
    "\n",
    "s = s_theory\n",
    "smax = s+1\n",
    "txMax = s\n",
    "\n",
    "\"\"\"\n",
    "match the RTQ result\n",
    "\"\"\"\n",
    "s = 2\n",
    "smax = s+1\n",
    "sysUtil = 0.343023\n",
    "txMax = s\n",
    "\n",
    "g = [0] * smax\n",
    "h = [0] * smax\n",
    "g_prob = [0] * smax # prob of seen such g\n",
    "\n",
    "for i, tx in enumerate(range(1, txMax+2)): # 1 ~ txMax+2 <=> range(1, smax+1)\n",
    "    pktDelay = rtt + (tx-1) * rto\n",
    "    print(i, pktDelay)\n",
    "    g[i] = gValCalc(tx, pktDelay, rtt, rttvar, txMax, sysDelay, sysDelvy, sysUtil, gamma)\n",
    "    h[i] = hValCalc(tx, pktDelay, rtt, rttvar, txMax, sysDelay, sysDelvy, sysUtil, gamma)\n",
    "    g_prob[i] = witnessProb(tx, gamma, txMax)\n",
    "print(g)\n",
    "print(h)\n",
    "print(g_prob)\n",
    "\n",
    "# turn g and h to column vectors\n",
    "h = np.asarray([h]).T\n",
    "g = np.asarray([g]).T\n",
    "g_prob = np.asarray([g_prob]).T\n"
   ]
  },
  {
   "cell_type": "markdown",
   "metadata": {},
   "source": [
    "Debug v calculation (inprogress)\n",
    "\n",
    "The stability equation is\n",
    "v = gamma AB v + Prob(seen such g) g + h"
   ]
  },
  {
   "cell_type": "code",
   "execution_count": 13,
   "metadata": {},
   "outputs": [
    {
     "name": "stdout",
     "output_type": "stream",
     "text": [
      "qij_sum 1.6449295603292124\n",
      "AB\n",
      "[[0.         0.40795887 0.        ]\n",
      " [0.         0.         0.40795887]\n",
      " [0.         0.         0.        ]]\n",
      "h\n",
      "[[0.      ]\n",
      " [0.      ]\n",
      " [0.343023]]\n",
      "g\n",
      "[[0.52961362]\n",
      " [0.21641328]\n",
      " [0.        ]]\n",
      "v_theory\n",
      "[[0.55339894]\n",
      " [0.24915907]\n",
      " [0.343023  ]]\n",
      "v_RTQ\n",
      "[[0.746467]\n",
      " [0.418561]\n",
      " [0.244324]\n",
      " [0.343023]]\n"
     ]
    }
   ],
   "source": [
    "# g = np.asarray([[utilityForEachS[txTimes+1]for txTimes in range(smax)]]).T\n",
    "\n",
    "AB = np.zeros((s+1, s+1))  # the [A, B] matrix in mathematical model\n",
    "qij_list = np.ones(smax+1)\n",
    "for drx in range(1, len(qij_list)):\n",
    "    qij_list[drx] = calc_qij_approx_norm(beta, rtt, rttvar, drx, timeDivider)\n",
    "\n",
    "print(\"qij_sum\", sum(qij_list))\n",
    "\n",
    "for row in range(0, s):\n",
    "    # AB[row, row+1] = qij_list[row+1] / qij_list[row]\n",
    "    AB[row, row+1] = qij_list[1]\n",
    "\n",
    "print(\"AB\")\n",
    "print(AB)\n",
    "print(\"h\")\n",
    "print(h)\n",
    "print(\"g\")\n",
    "print(g)\n",
    "\n",
    "\n",
    "# v_theory = np.linalg.pinv(np.eye(s+1)-gamma * A).dot(B.dot(h) + (1-gamma)*g)\n",
    "v_coeff = np.eye(s+1) - gamma * AB\n",
    "v_coeff_inv = np.linalg.pinv(v_coeff)\n",
    "v_theory = v_coeff_inv.dot(h + g)\n",
    "\n",
    "print(\"v_theory\")\n",
    "print(v_theory)\n",
    "\n",
    "\n",
    "# rhs = h + g + gamma * AB.dot(v_theory)\n",
    "# assert np.linalg.norm(v_theory - rhs) < 0.0001, \"too large gap betwen v_theory and rhs\"\n",
    "# print(\"validation check pass\")\n",
    "print(\"v_RTQ\")\n",
    "v_RTQ = np.asarray([[0.746467, 0.418561, 0.244324, 0.343023]]).T\n",
    "print(v_RTQ)"
   ]
  },
  {
   "cell_type": "code",
   "execution_count": 14,
   "metadata": {},
   "outputs": [
    {
     "data": {
      "text/plain": [
       "0.5695704473851404"
      ]
     },
     "execution_count": 14,
     "metadata": {},
     "output_type": "execute_result"
    }
   ],
   "source": [
    "0.52961362 + 0.40795887 * gamma * 0.418561"
   ]
  },
  {
   "cell_type": "markdown",
   "metadata": {},
   "source": [
    "## Analysis of per packet utility"
   ]
  },
  {
   "cell_type": "code",
   "execution_count": 15,
   "metadata": {},
   "outputs": [
    {
     "data": {
      "text/html": [
       "<div>\n",
       "<style scoped>\n",
       "    .dataframe tbody tr th:only-of-type {\n",
       "        vertical-align: middle;\n",
       "    }\n",
       "\n",
       "    .dataframe tbody tr th {\n",
       "        vertical-align: top;\n",
       "    }\n",
       "\n",
       "    .dataframe thead th {\n",
       "        text-align: right;\n",
       "    }\n",
       "</style>\n",
       "<table border=\"1\" class=\"dataframe\">\n",
       "  <thead>\n",
       "    <tr style=\"text-align: right;\">\n",
       "      <th></th>\n",
       "      <th>pktDelay</th>\n",
       "      <th>pktUtil</th>\n",
       "      <th>pktProb</th>\n",
       "      <th>expectedPktUtil</th>\n",
       "      <th>cumuUtil</th>\n",
       "    </tr>\n",
       "    <tr>\n",
       "      <th>txTimes</th>\n",
       "      <th></th>\n",
       "      <th></th>\n",
       "      <th></th>\n",
       "      <th></th>\n",
       "      <th></th>\n",
       "    </tr>\n",
       "  </thead>\n",
       "  <tbody>\n",
       "    <tr>\n",
       "      <th>1</th>\n",
       "      <td>124.4275</td>\n",
       "      <td>0.529614</td>\n",
       "      <td>0.766000</td>\n",
       "      <td>0.405684</td>\n",
       "      <td>0.405684</td>\n",
       "    </tr>\n",
       "    <tr>\n",
       "      <th>2</th>\n",
       "      <td>299.6242</td>\n",
       "      <td>0.216415</td>\n",
       "      <td>0.179244</td>\n",
       "      <td>0.038791</td>\n",
       "      <td>0.444475</td>\n",
       "    </tr>\n",
       "    <tr>\n",
       "      <th>3</th>\n",
       "      <td>474.8209</td>\n",
       "      <td>0.088433</td>\n",
       "      <td>0.041943</td>\n",
       "      <td>0.003709</td>\n",
       "      <td>0.448184</td>\n",
       "    </tr>\n",
       "    <tr>\n",
       "      <th>4</th>\n",
       "      <td>650.0176</td>\n",
       "      <td>0.036136</td>\n",
       "      <td>0.009815</td>\n",
       "      <td>0.000355</td>\n",
       "      <td>0.448539</td>\n",
       "    </tr>\n",
       "    <tr>\n",
       "      <th>5</th>\n",
       "      <td>825.2143</td>\n",
       "      <td>0.014766</td>\n",
       "      <td>0.002297</td>\n",
       "      <td>0.000034</td>\n",
       "      <td>0.448573</td>\n",
       "    </tr>\n",
       "  </tbody>\n",
       "</table>\n",
       "</div>"
      ],
      "text/plain": [
       "         pktDelay   pktUtil   pktProb  expectedPktUtil  cumuUtil\n",
       "txTimes                                                         \n",
       "1        124.4275  0.529614  0.766000         0.405684  0.405684\n",
       "2        299.6242  0.216415  0.179244         0.038791  0.444475\n",
       "3        474.8209  0.088433  0.041943         0.003709  0.448184\n",
       "4        650.0176  0.036136  0.009815         0.000355  0.448539\n",
       "5        825.2143  0.014766  0.002297         0.000034  0.448573"
      ]
     },
     "execution_count": 15,
     "metadata": {},
     "output_type": "execute_result"
    }
   ],
   "source": [
    "pktDelay = [rtt+rto*(rxMax-1) for rxMax in rxMaxList]\n",
    "pktUtility = [calc_utility(delay, 1, alpha, beta, timeDivider) for delay in pktDelay]\n",
    "pktSeenProb = [(1-gamma)*(gamma ** (rxMax-1)) for rxMax in rxMaxList]\n",
    "cumuProb = [sum(pktSeenProb[:i+1]) for i in range(len(pktUtility))]\n",
    "expPktUtil = [u * p for u, p in zip(pktUtility, pktSeenProb)]\n",
    "cumuUtil = [sum(expPktUtil[:i+1]) for i in range(len(pktUtility))]\n",
    "\n",
    "pktUtilityDf = pd.DataFrame({\"txTimes\":rxMaxList, \"pktDelay\":pktDelay, \"pktUtil\":pktUtility, \"pktProb\":pktSeenProb, \"expectedPktUtil\":expPktUtil, \"cumuUtil\":cumuUtil})\n",
    "pktUtilityDf.set_index(\"txTimes\")"
   ]
  },
  {
   "cell_type": "code",
   "execution_count": null,
   "metadata": {},
   "outputs": [],
   "source": []
  }
 ],
 "metadata": {
  "interpreter": {
   "hash": "aee8b7b246df8f9039afb4144a1f6fd8d2ca17a180786b69acc140d282b71a49"
  },
  "kernelspec": {
   "display_name": "Python 3.8.7 64-bit",
   "language": "python",
   "name": "python3"
  },
  "language_info": {
   "codemirror_mode": {
    "name": "ipython",
    "version": 3
   },
   "file_extension": ".py",
   "mimetype": "text/x-python",
   "name": "python",
   "nbconvert_exporter": "python",
   "pygments_lexer": "ipython3",
   "version": "3.8.7"
  },
  "orig_nbformat": 4
 },
 "nbformat": 4,
 "nbformat_minor": 2
}
